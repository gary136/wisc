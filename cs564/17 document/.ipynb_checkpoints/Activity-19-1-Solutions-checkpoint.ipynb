{
 "cells": [
  {
   "cell_type": "markdown",
   "metadata": {},
   "source": [
    "### Note: You may need to install `markdown`:\n",
    "\n",
    "    pip install markdown"
   ]
  },
  {
   "cell_type": "code",
   "execution_count": 15,
   "metadata": {},
   "outputs": [
    {
     "name": "stdout",
     "output_type": "stream",
     "text": [
      "The sql extension is already loaded. To reload it, use:\n",
      "  %reload_ext sql\n",
      "The autoreload extension is already loaded. To reload it, use:\n",
      "  %reload_ext autoreload\n"
     ]
    }
   ],
   "source": [
    "%load_ext sql\n",
    "%sql sqlite://\n",
    "\n",
    "%load_ext autoreload\n",
    "%autoreload 2\n",
    "\n",
    "# To help render markdown\n",
    "from IPython.core.display import display, HTML\n",
    "from markdown import markdown\n",
    "def render_markdown_raw(m): return display(HTML(markdown(m))) # must be last element of cell.\n",
    "def render_markdown(m): return render_markdown_raw(m.toMD())\n",
    "def cost_markdown(q): \n",
    "    q.reset_count()\n",
    "    get_result(q) # run the counters\n",
    "    return display(HTML(markdown(\"Total Reads: {0}\\n\\n\".format(q.total_count()) + q.toCount(0))))\n",
    "\n",
    "# import the relational algbera operators\n",
    "from relation_algebra import Select, Project, Union, NJoin, CrossProduct, BaseRelation\n",
    "from relation_algebra import get_result, compare_results\n",
    "\n",
    "from display_tools import side_by_side\n",
    "\n",
    "import random"
   ]
  },
  {
   "cell_type": "code",
   "execution_count": 16,
   "metadata": {},
   "outputs": [
    {
     "name": "stdout",
     "output_type": "stream",
     "text": [
      "Done.\n",
      "Done.\n",
      "Done.\n",
      "Done.\n",
      "Done.\n",
      "Done.\n"
     ]
    },
    {
     "data": {
      "text/plain": [
       "[]"
      ]
     },
     "execution_count": 16,
     "metadata": {},
     "output_type": "execute_result"
    }
   ],
   "source": [
    "%%sql\n",
    "drop table if exists R; create table R(A int, B int);\n",
    "drop table if exists S; create table S(B int, C int);\n",
    "drop table if exists T; create table T(C int, D int);"
   ]
  },
  {
   "cell_type": "markdown",
   "metadata": {},
   "source": [
    "Activity 19-1: Optimization of Relational Algebra Expressions\n",
    "==================================\n",
    "\n"
   ]
  },
  {
   "cell_type": "markdown",
   "metadata": {},
   "source": [
    "We start by generating some sample data for relations $R$ and $S$:"
   ]
  },
  {
   "cell_type": "code",
   "execution_count": 17,
   "metadata": {},
   "outputs": [
    {
     "name": "stdout",
     "output_type": "stream",
     "text": [
      "1 rows affected.\n",
      "1 rows affected.\n",
      "1 rows affected.\n",
      "1 rows affected.\n",
      "1 rows affected.\n",
      "1 rows affected.\n",
      "1 rows affected.\n",
      "1 rows affected.\n",
      "1 rows affected.\n",
      "1 rows affected.\n",
      "1 rows affected.\n",
      "1 rows affected.\n",
      "1 rows affected.\n",
      "1 rows affected.\n",
      "1 rows affected.\n",
      "1 rows affected.\n",
      "1 rows affected.\n",
      "1 rows affected.\n",
      "1 rows affected.\n",
      "1 rows affected.\n",
      "1 rows affected.\n",
      "1 rows affected.\n",
      "1 rows affected.\n",
      "1 rows affected.\n",
      "1 rows affected.\n",
      "1 rows affected.\n",
      "1 rows affected.\n",
      "1 rows affected.\n",
      "1 rows affected.\n",
      "1 rows affected.\n",
      "1 rows affected.\n",
      "1 rows affected.\n",
      "1 rows affected.\n",
      "1 rows affected.\n",
      "1 rows affected.\n",
      "1 rows affected.\n",
      "1 rows affected.\n",
      "1 rows affected.\n",
      "1 rows affected.\n",
      "1 rows affected.\n",
      "1 rows affected.\n",
      "1 rows affected.\n",
      "1 rows affected.\n",
      "1 rows affected.\n",
      "1 rows affected.\n",
      "1 rows affected.\n",
      "1 rows affected.\n",
      "1 rows affected.\n",
      "1 rows affected.\n",
      "1 rows affected.\n",
      "1 rows affected.\n",
      "1 rows affected.\n",
      "1 rows affected.\n",
      "1 rows affected.\n",
      "1 rows affected.\n",
      "1 rows affected.\n",
      "1 rows affected.\n",
      "1 rows affected.\n",
      "1 rows affected.\n",
      "1 rows affected.\n",
      "1 rows affected.\n",
      "1 rows affected.\n",
      "1 rows affected.\n",
      "1 rows affected.\n",
      "1 rows affected.\n",
      "1 rows affected.\n",
      "1 rows affected.\n",
      "1 rows affected.\n",
      "1 rows affected.\n",
      "1 rows affected.\n",
      "1 rows affected.\n",
      "1 rows affected.\n",
      "1 rows affected.\n",
      "1 rows affected.\n",
      "1 rows affected.\n"
     ]
    }
   ],
   "source": [
    "for b in range(0,5,1):\n",
    "    for a in range(0,10,2):\n",
    "        %sql INSERT INTO R VALUES (:a, :b);\n",
    "for b in range(0,5,1):\n",
    "    for c in range(0,10,2):\n",
    "        %sql INSERT INTO S VALUES (:b, :c);\n",
    "for c in range(0,5,1):\n",
    "    for d in range(0,10,2):\n",
    "        %sql INSERT INTO T VALUES (:c, :d);"
   ]
  },
  {
   "cell_type": "markdown",
   "metadata": {},
   "source": [
    "Then, let's look at the following RA expression:"
   ]
  },
  {
   "cell_type": "code",
   "execution_count": 18,
   "metadata": {},
   "outputs": [
    {
     "name": "stdout",
     "output_type": "stream",
     "text": [
      "Done.\n",
      "Done.\n"
     ]
    },
    {
     "data": {
      "text/html": [
       "<p>$\\Pi_{B}$(( R(A,B) ) $\\Join_{B}$ ( S(B,C) ))</p>"
      ],
      "text/plain": [
       "<IPython.core.display.HTML object>"
      ]
     },
     "metadata": {},
     "output_type": "display_data"
    },
    {
     "name": "stdout",
     "output_type": "stream",
     "text": [
      "[(2,), (0,), (3,), (1,), (4,)]\n"
     ]
    }
   ],
   "source": [
    "r = %sql SELECT * FROM R;\n",
    "R = BaseRelation(r, name=\"R\")\n",
    "s = %sql SELECT * FROM S;\n",
    "S = BaseRelation(s, name=\"S\")\n",
    "\n",
    "x = Project([\"B\"], NJoin(R,S))\n",
    "render_markdown(x)\n",
    "print get_result(x)"
   ]
  },
  {
   "cell_type": "markdown",
   "metadata": {},
   "source": [
    "Let's look at what's going on under the hood using the `cost_markdown` function:"
   ]
  },
  {
   "cell_type": "code",
   "execution_count": 19,
   "metadata": {},
   "outputs": [
    {
     "data": {
      "text/html": [
       "<p>Total Reads: 775</p>\n",
       "<ul>\n",
       "<li>$\\Pi_{['B']}$ [tuples read in: 125 out: 5]<ul>\n",
       "<li>$\\Join_{B}$ [tuples read in: 650 out: 125]<ul>\n",
       "<li>R(A,B) has 25 tuples </li>\n",
       "<li>S(B,C) has 25 tuples </li>\n",
       "</ul>\n",
       "</li>\n",
       "</ul>\n",
       "</li>\n",
       "</ul>"
      ],
      "text/plain": [
       "<IPython.core.display.HTML object>"
      ]
     },
     "metadata": {},
     "output_type": "display_data"
    }
   ],
   "source": [
    "cost_markdown(x)"
   ]
  },
  {
   "cell_type": "markdown",
   "metadata": {},
   "source": [
    "Note that there are several simplifying assumptions in how we compute cost here.  For one, note that we don't assume anything about being able to cache intermediate results in any way (either in buffer or on disk).  For another one, note how is the join done... what algorithm are we using here?\n",
    "\n",
    "Note that we can also just get the total count of reads:"
   ]
  },
  {
   "cell_type": "code",
   "execution_count": 20,
   "metadata": {},
   "outputs": [
    {
     "data": {
      "text/plain": [
       "775"
      ]
     },
     "execution_count": 20,
     "metadata": {},
     "output_type": "execute_result"
    }
   ],
   "source": [
    "x.total_count()"
   ]
  },
  {
   "cell_type": "markdown",
   "metadata": {},
   "source": [
    "### Exercise 1: Optimizing the IO Cost\n",
    "\n",
    "Can you find a logically equivalent form that uses fewer total reads?"
   ]
  },
  {
   "cell_type": "code",
   "execution_count": 21,
   "metadata": {},
   "outputs": [
    {
     "data": {
      "text/html": [
       "<p>( $\\Pi_{B}$(R(A,B)) ) $\\Join_{B}$ ( $\\Pi_{B}$(S(B,C)) )</p>"
      ],
      "text/plain": [
       "<IPython.core.display.HTML object>"
      ]
     },
     "metadata": {},
     "output_type": "display_data"
    },
    {
     "name": "stdout",
     "output_type": "stream",
     "text": [
      "True\n"
     ]
    },
    {
     "data": {
      "text/html": [
       "<p>Total Reads: 180</p>\n",
       "<ul>\n",
       "<li>$\\Join_{B}$ [tuples read in: 30 out: 5]<ul>\n",
       "<li>$\\Pi_{['B']}$ [tuples read in: 25 out: 5]<ul>\n",
       "<li>R(A,B) has 25 tuples </li>\n",
       "</ul>\n",
       "</li>\n",
       "<li>$\\Pi_{['B']}$ [tuples read in: 125 out: 25]<ul>\n",
       "<li>S(B,C) has 25 tuples </li>\n",
       "</ul>\n",
       "</li>\n",
       "</ul>\n",
       "</li>\n",
       "</ul>"
      ],
      "text/plain": [
       "<IPython.core.display.HTML object>"
      ]
     },
     "metadata": {},
     "output_type": "display_data"
    }
   ],
   "source": [
    "y = NJoin(Project([\"B\"], R), Project([\"B\"], S))\n",
    "render_markdown(y)\n",
    "print compare_results(x,y)\n",
    "cost_markdown(y)"
   ]
  },
  {
   "cell_type": "markdown",
   "metadata": {},
   "source": [
    "### Exercise 2: Comparing costs\n",
    "\n",
    "Let's explore how the cost of the two expressions compare as the data size increases, and with different numbers of distinct values in the data.  Given that $R$ has $N$ values, $S$ has $M$ values, you can assume that $N=M$ to simplify, and that they will both have _the same number of unique $B$ values_.\n",
    "\n",
    "You can do this any way you choose, but we outline one way below:\n",
    "\n",
    "We'll start with a function for each cost that will take as input:\n",
    "* The number of tuples in $R$, $N$\n",
    "* **_The number of distinct $B$ values in $R$, $N_B$_**\n",
    "* The number of tuples in $R\\Join_B S$, $O_1$\n",
    "* The number of tuples in $\\Pi_B(R\\Join_B S)$, $O_2$\n",
    "\n",
    "Your function should return the total number of reads as in the `cost_markdown` function"
   ]
  },
  {
   "cell_type": "code",
   "execution_count": 22,
   "metadata": {},
   "outputs": [
    {
     "name": "stdout",
     "output_type": "stream",
     "text": [
      "775\n",
      "180\n"
     ]
    }
   ],
   "source": [
    "def cost_simple_nlj(n, m):\n",
    "    \"\"\"\n",
    "    Cost to perform a simple NLJ join\n",
    "    Assuming 1 tuple / page\n",
    "    \"\"\"\n",
    "    return n + n*m\n",
    "\n",
    "def cost_1(N, M, N_B, M_B, O_1, O_2):\n",
    "    \n",
    "    # The cost of reading in for NLJ over R and S\n",
    "    cost = cost_simple_nlj(N,M)\n",
    "    \n",
    "    # The cost of reading in the output of the join to do the projection\n",
    "    cost += O_1  \n",
    "    return cost\n",
    "\n",
    "def cost_2(N, M, N_B, M_B, O_1, O_2):\n",
    "    \n",
    "    # The cost to do the projections\n",
    "    cost_proj_R = N\n",
    "    cost_proj_S = M\n",
    "    \n",
    "    # The cost of doing the projections for each loop of NLJ\n",
    "    cost = cost_proj_R + N_B*cost_proj_S\n",
    "    \n",
    "    # The cost of doing NLJ\n",
    "    cost += cost_simple_nlj(N_B, M_B)\n",
    "    return cost\n",
    "\n",
    "print cost_1(25, 25, 5, 5, 125, 5)\n",
    "print cost_2(25, 25, 5, 5, 125, 5)"
   ]
  },
  {
   "cell_type": "markdown",
   "metadata": {},
   "source": [
    "We can plot this as a function of $N$ (assume $N=M$ for simplicity), given 5 distinct $B$ values and a rough estimate of the intermediate output counts:"
   ]
  },
  {
   "cell_type": "code",
   "execution_count": 23,
   "metadata": {},
   "outputs": [],
   "source": [
    "B = 5\n",
    "nrange = range(5,100)\n",
    "\n",
    "# Plot\n",
    "plt.plot(nrange, [cost_1(n, n, B, B, b*B, B) for n in nrange])\n",
    "plt.plot(nrange, [cost_2(n, n, B, B, n*B, B) for n in nrange])\n",
    "plt.show()"
   ]
  },
  {
   "cell_type": "markdown",
   "metadata": {},
   "source": [
    "### Exercise 3: Optimizing some other expressions\n",
    "\n",
    "Can you optimize the below expressions, using the tools above?"
   ]
  },
  {
   "cell_type": "markdown",
   "metadata": {},
   "source": [
    "#### Exercise 3.1"
   ]
  },
  {
   "cell_type": "code",
   "execution_count": 27,
   "metadata": {},
   "outputs": [
    {
     "data": {
      "text/html": [
       "<p>$\\sigma_{A=2}$($\\Pi_{A,C}$(( R(A,B) ) $\\Join_{B}$ ( S(B,C) )))</p>"
      ],
      "text/plain": [
       "<IPython.core.display.HTML object>"
      ]
     },
     "metadata": {},
     "output_type": "display_data"
    },
    {
     "name": "stdout",
     "output_type": "stream",
     "text": [
      "[(2, 8), (2, 6), (2, 2), (2, 0), (2, 4)]\n"
     ]
    },
    {
     "data": {
      "text/html": [
       "<p>Total Reads: 800</p>\n",
       "<ul>\n",
       "<li>$\\sigma_{A=2}$ [tuples read in: 25 out: 5]<ul>\n",
       "<li>$\\Pi_{['A', 'C']}$ [tuples read in: 125 out: 25]<ul>\n",
       "<li>$\\Join_{B}$ [tuples read in: 650 out: 125]<ul>\n",
       "<li>R(A,B) has 25 tuples </li>\n",
       "<li>S(B,C) has 25 tuples </li>\n",
       "</ul>\n",
       "</li>\n",
       "</ul>\n",
       "</li>\n",
       "</ul>\n",
       "</li>\n",
       "</ul>"
      ],
      "text/plain": [
       "<IPython.core.display.HTML object>"
      ]
     },
     "metadata": {},
     "output_type": "display_data"
    }
   ],
   "source": [
    "x = Select(\"A\", 2, Project([\"A\",\"C\"], NJoin(R,S)))\n",
    "render_markdown(x)\n",
    "print get_result(x)\n",
    "cost_markdown(x)"
   ]
  },
  {
   "cell_type": "code",
   "execution_count": 28,
   "metadata": {},
   "outputs": [
    {
     "data": {
      "text/html": [
       "<p>$\\Pi_{A,C}$(( $\\sigma_{A=2}$(R(A,B)) ) $\\Join_{B}$ ( S(B,C) ))</p>"
      ],
      "text/plain": [
       "<IPython.core.display.HTML object>"
      ]
     },
     "metadata": {},
     "output_type": "display_data"
    },
    {
     "name": "stdout",
     "output_type": "stream",
     "text": [
      "[(2, 0), (2, 6), (2, 8), (2, 4), (2, 2)]\n",
      "True\n"
     ]
    },
    {
     "data": {
      "text/html": [
       "<p>Total Reads: 180</p>\n",
       "<ul>\n",
       "<li>$\\Pi_{['A', 'C']}$ [tuples read in: 25 out: 5]<ul>\n",
       "<li>$\\Join_{B}$ [tuples read in: 130 out: 25]<ul>\n",
       "<li>$\\sigma_{A=2}$ [tuples read in: 25 out: 5]<ul>\n",
       "<li>R(A,B) has 25 tuples </li>\n",
       "</ul>\n",
       "</li>\n",
       "<li>S(B,C) has 25 tuples </li>\n",
       "</ul>\n",
       "</li>\n",
       "</ul>\n",
       "</li>\n",
       "</ul>"
      ],
      "text/plain": [
       "<IPython.core.display.HTML object>"
      ]
     },
     "metadata": {},
     "output_type": "display_data"
    }
   ],
   "source": [
    "y = Project([\"A\",\"C\"], NJoin(Select(\"A\", 2, R), S))\n",
    "render_markdown(y)\n",
    "print get_result(y)\n",
    "print compare_results(x,y)\n",
    "cost_markdown(y)"
   ]
  },
  {
   "cell_type": "markdown",
   "metadata": {},
   "source": [
    "#### Exercise 3.2"
   ]
  },
  {
   "cell_type": "code",
   "execution_count": 29,
   "metadata": {},
   "outputs": [
    {
     "name": "stdout",
     "output_type": "stream",
     "text": [
      "Done.\n"
     ]
    },
    {
     "data": {
      "text/html": [
       "<p>$\\sigma_{C=0}$($\\Pi_{A,C}$($\\sigma_{B=0}$(( ( R(A,B) ) $\\Join_{B}$ ( S(B,C) ) ) $\\Join_{C}$ ( T(C,D) ))))</p>"
      ],
      "text/plain": [
       "<IPython.core.display.HTML object>"
      ]
     },
     "metadata": {},
     "output_type": "display_data"
    },
    {
     "name": "stdout",
     "output_type": "stream",
     "text": [
      "[(0, 0), (6, 0), (2, 0), (8, 0), (4, 0)]\n"
     ]
    },
    {
     "data": {
      "text/html": [
       "<p>Total Reads: 4365</p>\n",
       "<ul>\n",
       "<li>$\\sigma_{C=0}$ [tuples read in: 15 out: 5]<ul>\n",
       "<li>$\\Pi_{['A', 'C']}$ [tuples read in: 75 out: 15]<ul>\n",
       "<li>$\\sigma_{B=0}$ [tuples read in: 375 out: 75]<ul>\n",
       "<li>$\\Join_{C}$ [tuples read in: 3250 out: 375]<ul>\n",
       "<li>$\\Join_{B}$ [tuples read in: 650 out: 125]<ul>\n",
       "<li>R(A,B) has 25 tuples </li>\n",
       "<li>S(B,C) has 25 tuples </li>\n",
       "</ul>\n",
       "</li>\n",
       "<li>T(C,D) has 25 tuples </li>\n",
       "</ul>\n",
       "</li>\n",
       "</ul>\n",
       "</li>\n",
       "</ul>\n",
       "</li>\n",
       "</ul>\n",
       "</li>\n",
       "</ul>"
      ],
      "text/plain": [
       "<IPython.core.display.HTML object>"
      ]
     },
     "metadata": {},
     "output_type": "display_data"
    }
   ],
   "source": [
    "t = %sql SELECT * FROM T;\n",
    "T = BaseRelation(t, name=\"T\")\n",
    "\n",
    "x = Select(\"C\", 0, Project([\"A\",\"C\"], Select(\"B\", 0, NJoin(NJoin(R, S), T))))\n",
    "render_markdown(x)\n",
    "print get_result(x)\n",
    "cost_markdown(x)"
   ]
  },
  {
   "cell_type": "code",
   "execution_count": 38,
   "metadata": {},
   "outputs": [
    {
     "data": {
      "text/html": [
       "<p>$\\Pi_{A,C}$(( $\\sigma_{C=0}$(( $\\sigma_{B=0}$(R(A,B)) ) $\\Join_{B}$ ( $\\sigma_{B=0}$(S(B,C)) )) ) $\\Join_{C}$ ( $\\Pi_{C}$($\\sigma_{C=0}$(T(C,D))) ))</p>"
      ],
      "text/plain": [
       "<IPython.core.display.HTML object>"
      ]
     },
     "metadata": {},
     "output_type": "display_data"
    },
    {
     "name": "stdout",
     "output_type": "stream",
     "text": [
      "[(8, 0), (2, 0), (0, 0), (6, 0), (4, 0)]\n",
      "True\n"
     ]
    },
    {
     "data": {
      "text/html": [
       "<p>Total Reads: 370</p>\n",
       "<ul>\n",
       "<li>$\\Pi_{['A', 'C']}$ [tuples read in: 5 out: 5]<ul>\n",
       "<li>$\\Join_{C}$ [tuples read in: 10 out: 5]<ul>\n",
       "<li>$\\sigma_{C=0}$ [tuples read in: 25 out: 5]<ul>\n",
       "<li>$\\Join_{B}$ [tuples read in: 30 out: 25]<ul>\n",
       "<li>$\\sigma_{B=0}$ [tuples read in: 25 out: 5]<ul>\n",
       "<li>R(A,B) has 25 tuples </li>\n",
       "</ul>\n",
       "</li>\n",
       "<li>$\\sigma_{B=0}$ [tuples read in: 125 out: 25]<ul>\n",
       "<li>S(B,C) has 25 tuples </li>\n",
       "</ul>\n",
       "</li>\n",
       "</ul>\n",
       "</li>\n",
       "</ul>\n",
       "</li>\n",
       "<li>$\\Pi_{['C']}$ [tuples read in: 25 out: 5]<ul>\n",
       "<li>$\\sigma_{C=0}$ [tuples read in: 125 out: 25]<ul>\n",
       "<li>T(C,D) has 25 tuples </li>\n",
       "</ul>\n",
       "</li>\n",
       "</ul>\n",
       "</li>\n",
       "</ul>\n",
       "</li>\n",
       "</ul>\n",
       "</li>\n",
       "</ul>"
      ],
      "text/plain": [
       "<IPython.core.display.HTML object>"
      ]
     },
     "metadata": {},
     "output_type": "display_data"
    }
   ],
   "source": [
    "y = Project([\"A\",\"C\"], NJoin(\n",
    "        Select(\"C\", 0, NJoin(Select(\"B\", 0, R), Select(\"B\", 0, S))),\n",
    "        Project([\"C\"], Select(\"C\", 0, T))))\n",
    "render_markdown(y)\n",
    "print get_result(y)\n",
    "print compare_results(x,y)\n",
    "cost_markdown(y)"
   ]
  },
  {
   "cell_type": "code",
   "execution_count": null,
   "metadata": {
    "collapsed": true
   },
   "outputs": [],
   "source": []
  }
 ],
 "metadata": {
  "kernelspec": {
   "display_name": "Python 3",
   "language": "python",
   "name": "python3"
  },
  "language_info": {
   "codemirror_mode": {
    "name": "ipython",
    "version": 3
   },
   "file_extension": ".py",
   "mimetype": "text/x-python",
   "name": "python",
   "nbconvert_exporter": "python",
   "pygments_lexer": "ipython3",
   "version": "3.6.4"
  }
 },
 "nbformat": 4,
 "nbformat_minor": 1
}
