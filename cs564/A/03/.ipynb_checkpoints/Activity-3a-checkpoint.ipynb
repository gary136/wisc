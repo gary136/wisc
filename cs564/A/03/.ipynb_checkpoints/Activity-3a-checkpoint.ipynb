{
 "cells": [
  {
   "cell_type": "markdown",
   "metadata": {
    "slideshow": {
     "slide_type": "skip"
    }
   },
   "source": [
    "Aggregation in SQL\n",
    "-----"
   ]
  },
  {
   "cell_type": "code",
   "execution_count": null,
   "metadata": {
    "slideshow": {
     "slide_type": "skip"
    }
   },
   "outputs": [],
   "source": [
    "%load_ext sql\n",
    "%sql sqlite:///world-db"
   ]
  },
  {
   "cell_type": "markdown",
   "metadata": {},
   "source": [
    "Let's ask some SQL queries over the `world` dataset using aggregation. \n",
    "Our first query finds the average population of countries in Europe."
   ]
  },
  {
   "cell_type": "code",
   "execution_count": null,
   "metadata": {},
   "outputs": [],
   "source": [
    "%%sql\n",
    "SELECT AVG(Population)\n",
    "FROM Country\n",
    "WHERE Continent = 'Europe';"
   ]
  },
  {
   "cell_type": "markdown",
   "metadata": {},
   "source": [
    "The next query outputs the number of countries in Europe."
   ]
  },
  {
   "cell_type": "code",
   "execution_count": null,
   "metadata": {},
   "outputs": [],
   "source": [
    "%%sql\n",
    "SELECT COUNT(*) \n",
    "FROM Country\n",
    "WHERE Continent = 'Europe';"
   ]
  },
  {
   "cell_type": "markdown",
   "metadata": {},
   "source": [
    "Next, we want to compute the number of languages in the `CountryLanguage` table. Here we want to use `DISTINCT` inside the count, otherwise languages that are spoken in multiple countries will be counted multiple times!"
   ]
  },
  {
   "cell_type": "code",
   "execution_count": null,
   "metadata": {},
   "outputs": [],
   "source": [
    "%%sql\n",
    "SELECT COUNT(DISTINCT Language)\n",
    "FROM CountryLanguage ;"
   ]
  },
  {
   "cell_type": "markdown",
   "metadata": {},
   "source": [
    "How can we find the name *and* population of the country with the max population in Europe? Notice that finding only the max population is easy, but if we want to output the country as well, it gets a bit tricky. We can write a nested query to solve this problem in an elegant way!"
   ]
  },
  {
   "cell_type": "code",
   "execution_count": null,
   "metadata": {},
   "outputs": [],
   "source": [
    "%%sql\n",
    "SELECT Name, Population\n",
    "FROM Country\n",
    "WHERE Population = \n",
    "  (SELECT MAX(Population)\n",
    "   FROM Country\n",
    "   WHERE Continent = 'Europe');"
   ]
  },
  {
   "cell_type": "markdown",
   "metadata": {},
   "source": [
    "An alternative way is to use together `ORDER BY` and `LIMIT`. However, the two queries can sometimes give a different result. Can you think when this may happen?"
   ]
  },
  {
   "cell_type": "code",
   "execution_count": null,
   "metadata": {},
   "outputs": [],
   "source": [
    "%%sql\n",
    "SELECT Name, Population\n",
    "FROM Country\n",
    "WHERE Continent = 'Europe'\n",
    "ORDER BY Population DESC\n",
    "LIMIT 1 ;"
   ]
  },
  {
   "cell_type": "markdown",
   "metadata": {},
   "source": [
    "We will see next how to use `GROUP BY`. The following SQL query computes the number of countries in every continent."
   ]
  },
  {
   "cell_type": "code",
   "execution_count": null,
   "metadata": {},
   "outputs": [],
   "source": [
    "%%sql\n",
    "SELECT Continent, SUM(Population), COUNT(*) \n",
    "FROM Country \n",
    "GROUP BY Continent;"
   ]
  },
  {
   "cell_type": "markdown",
   "metadata": {},
   "source": [
    "We can combine `GROUP BY` with `ORDER BY` as well. The following SQL query finds out how many countries speak each language with percentage > 50% in decreasing order."
   ]
  },
  {
   "cell_type": "code",
   "execution_count": null,
   "metadata": {},
   "outputs": [],
   "source": [
    "%%sql\n",
    "SELECT Language, COUNT(CountryCode) AS N\n",
    "FROM CountryLanguage\n",
    "WHERE Percentage >= 50\n",
    "GROUP BY Language\n",
    "ORDER BY N DESC ;"
   ]
  },
  {
   "cell_type": "markdown",
   "metadata": {},
   "source": [
    "The `HAVING` clause allows us to express conditions over properties of *groups*, and not only individual tuples. `HAVING` always follows a `GROUP BY`. As an example, the following SQL query finds out the languages that are spoken in at least 3 different countries with percentage at least 50."
   ]
  },
  {
   "cell_type": "code",
   "execution_count": null,
   "metadata": {},
   "outputs": [],
   "source": [
    "%%sql\n",
    "SELECT Language\n",
    "FROM CountryLanguage\n",
    "WHERE Percentage >= 50 \n",
    "GROUP BY Language\n",
    "HAVING COUNT(CountryCode) > 2;"
   ]
  },
  {
   "cell_type": "markdown",
   "metadata": {},
   "source": [
    "**Exercise #1**: Write a query that outputs for each country the population of the most populated city, for countries with at least 10 cities."
   ]
  },
  {
   "cell_type": "code",
   "execution_count": null,
   "metadata": {},
   "outputs": [],
   "source": []
  },
  {
   "cell_type": "markdown",
   "metadata": {},
   "source": [
    "Let's see how the use of `HAVING` compares with the use of correlated queries. Suppose that we want to find the names of the countries that have more than 10 cities with population at least 1 million. Here is a nested query that computes that: "
   ]
  },
  {
   "cell_type": "code",
   "execution_count": null,
   "metadata": {},
   "outputs": [],
   "source": [
    "%%sql\n",
    "SELECT C.name\n",
    "FROM Country C\n",
    "WHERE (SELECT COUNT(*) \n",
    "       FROM City\n",
    "       WHERE City.CountryCode=C.Code\n",
    "       AND City.Population >= 1000000) > 10; "
   ]
  },
  {
   "cell_type": "markdown",
   "metadata": {},
   "source": [
    "We can measure the execution time of the query using `%time`."
   ]
  },
  {
   "cell_type": "code",
   "execution_count": null,
   "metadata": {},
   "outputs": [],
   "source": [
    "%time %sql SELECT C.name FROM Country C WHERE (SELECT COUNT(*) FROM City WHERE City.CountryCode=C.Code AND City.Population >= 1000000) > 10; "
   ]
  },
  {
   "cell_type": "markdown",
   "metadata": {},
   "source": [
    "**Exercise #2**: Write the above query using `HAVING` and time its execution. How much faster does it run?"
   ]
  },
  {
   "cell_type": "code",
   "execution_count": null,
   "metadata": {},
   "outputs": [],
   "source": []
  }
 ],
 "metadata": {
  "kernelspec": {
   "display_name": "Python 3",
   "language": "python",
   "name": "python3"
  },
  "language_info": {
   "codemirror_mode": {
    "name": "ipython",
    "version": 3
   },
   "file_extension": ".py",
   "mimetype": "text/x-python",
   "name": "python",
   "nbconvert_exporter": "python",
   "pygments_lexer": "ipython3",
   "version": "3.6.4"
  }
 },
 "nbformat": 4,
 "nbformat_minor": 1
}
