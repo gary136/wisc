{
 "cells": [
  {
   "cell_type": "markdown",
   "metadata": {},
   "source": [
    "NESTED QUERIES\n",
    "------------"
   ]
  },
  {
   "cell_type": "code",
   "execution_count": 1,
   "metadata": {
    "slideshow": {
     "slide_type": "skip"
    }
   },
   "outputs": [],
   "source": [
    "%load_ext sql\n",
    "%sql sqlite:///world-db"
   ]
  },
  {
   "cell_type": "markdown",
   "metadata": {},
   "source": [
    "Recall the following nested query from the lecture:"
   ]
  },
  {
   "cell_type": "code",
   "execution_count": 10,
   "metadata": {},
   "outputs": [
    {
     "name": "stdout",
     "output_type": "stream",
     "text": [
      " * sqlite:///world-db\n",
      "Done.\n"
     ]
    },
    {
     "data": {
      "text/html": [
       "<table>\n",
       "    <tr>\n",
       "        <th>Name</th>\n",
       "    </tr>\n",
       "    <tr>\n",
       "        <td>Germany</td>\n",
       "    </tr>\n",
       "</table>"
      ],
      "text/plain": [
       "[('Germany',)]"
      ]
     },
     "execution_count": 10,
     "metadata": {},
     "output_type": "execute_result"
    }
   ],
   "source": [
    "%%sql\n",
    "SELECT C.Name \n",
    "FROM Country C \n",
    "WHERE C.code =\n",
    " (SELECT C.CountryCode\n",
    "  FROM City C \n",
    "  Where C.name = 'Berlin');"
   ]
  },
  {
   "cell_type": "markdown",
   "metadata": {},
   "source": [
    "**Exercise #1:** Can we do this query without nesting?  Write your query here:"
   ]
  },
  {
   "cell_type": "code",
   "execution_count": 12,
   "metadata": {},
   "outputs": [
    {
     "name": "stdout",
     "output_type": "stream",
     "text": [
      " * sqlite:///world-db\n",
      "Done.\n"
     ]
    },
    {
     "data": {
      "text/html": [
       "<table>\n",
       "    <tr>\n",
       "        <th>Name</th>\n",
       "    </tr>\n",
       "    <tr>\n",
       "        <td>Germany</td>\n",
       "    </tr>\n",
       "</table>"
      ],
      "text/plain": [
       "[('Germany',)]"
      ]
     },
     "execution_count": 12,
     "metadata": {},
     "output_type": "execute_result"
    }
   ],
   "source": [
    "%%sql\n",
    "SELECT T.Name \n",
    "FROM Country T join City C on T.code = C.CountryCode\n",
    "Where C.name = 'Berlin'"
   ]
  },
  {
   "cell_type": "markdown",
   "metadata": {},
   "source": [
    "The next query finds all countries in Europe with population that exceeds the average population of a country in Europe."
   ]
  },
  {
   "cell_type": "code",
   "execution_count": 13,
   "metadata": {},
   "outputs": [
    {
     "name": "stdout",
     "output_type": "stream",
     "text": [
      " * sqlite:///world-db\n",
      "Done.\n"
     ]
    },
    {
     "data": {
      "text/html": [
       "<table>\n",
       "    <tr>\n",
       "        <th>Name</th>\n",
       "    </tr>\n",
       "    <tr>\n",
       "        <td>Germany</td>\n",
       "    </tr>\n",
       "    <tr>\n",
       "        <td>Spain</td>\n",
       "    </tr>\n",
       "    <tr>\n",
       "        <td>France</td>\n",
       "    </tr>\n",
       "    <tr>\n",
       "        <td>United Kingdom</td>\n",
       "    </tr>\n",
       "    <tr>\n",
       "        <td>Italy</td>\n",
       "    </tr>\n",
       "    <tr>\n",
       "        <td>Poland</td>\n",
       "    </tr>\n",
       "    <tr>\n",
       "        <td>Romania</td>\n",
       "    </tr>\n",
       "    <tr>\n",
       "        <td>Russian Federation</td>\n",
       "    </tr>\n",
       "    <tr>\n",
       "        <td>Ukraine</td>\n",
       "    </tr>\n",
       "</table>"
      ],
      "text/plain": [
       "[('Germany',),\n",
       " ('Spain',),\n",
       " ('France',),\n",
       " ('United Kingdom',),\n",
       " ('Italy',),\n",
       " ('Poland',),\n",
       " ('Romania',),\n",
       " ('Russian Federation',),\n",
       " ('Ukraine',)]"
      ]
     },
     "execution_count": 13,
     "metadata": {},
     "output_type": "execute_result"
    }
   ],
   "source": [
    "%%sql\n",
    "SELECT C.Name\n",
    "FROM Country C\n",
    "WHERE C.Continent = 'Europe'\n",
    " AND C.Population > (\n",
    "    SELECT AVG(Population)\n",
    "    FROM Country\n",
    "    WHERE Continent = 'Europe') ;"
   ]
  },
  {
   "cell_type": "markdown",
   "metadata": {},
   "source": [
    "The next query finds all countries in Europe with population more than 50 million. Notice here that we can nest a SQL query in the `FROM` clause."
   ]
  },
  {
   "cell_type": "code",
   "execution_count": 17,
   "metadata": {},
   "outputs": [
    {
     "name": "stdout",
     "output_type": "stream",
     "text": [
      " * sqlite:///world-db\n",
      "Done.\n"
     ]
    },
    {
     "data": {
      "text/html": [
       "<table>\n",
       "    <tr>\n",
       "        <th>Name</th>\n",
       "    </tr>\n",
       "    <tr>\n",
       "        <td>Germany</td>\n",
       "    </tr>\n",
       "    <tr>\n",
       "        <td>France</td>\n",
       "    </tr>\n",
       "    <tr>\n",
       "        <td>United Kingdom</td>\n",
       "    </tr>\n",
       "    <tr>\n",
       "        <td>Italy</td>\n",
       "    </tr>\n",
       "    <tr>\n",
       "        <td>Russian Federation</td>\n",
       "    </tr>\n",
       "    <tr>\n",
       "        <td>Ukraine</td>\n",
       "    </tr>\n",
       "</table>"
      ],
      "text/plain": [
       "[('Germany',),\n",
       " ('France',),\n",
       " ('United Kingdom',),\n",
       " ('Italy',),\n",
       " ('Russian Federation',),\n",
       " ('Ukraine',)]"
      ]
     },
     "execution_count": 17,
     "metadata": {},
     "output_type": "execute_result"
    }
   ],
   "source": [
    "%%sql\n",
    "SELECT C.Name\n",
    "FROM (SELECT Name, Continent\n",
    "      FROM Country\n",
    "      WHERE Population >50000000) AS C \n",
    "WHERE C.Continent = 'Europe' ;"
   ]
  },
  {
   "cell_type": "markdown",
   "metadata": {},
   "source": [
    "The `WITH` clause can be added before the `SELECT` statement to define a table that can be used in the main query statement. This can be an alternative syntax to nesting a statement in the `FROM` clause."
   ]
  },
  {
   "cell_type": "code",
   "execution_count": 18,
   "metadata": {},
   "outputs": [
    {
     "name": "stdout",
     "output_type": "stream",
     "text": [
      " * sqlite:///world-db\n",
      "Done.\n"
     ]
    },
    {
     "data": {
      "text/html": [
       "<table>\n",
       "    <tr>\n",
       "        <th>Name</th>\n",
       "    </tr>\n",
       "    <tr>\n",
       "        <td>Germany</td>\n",
       "    </tr>\n",
       "    <tr>\n",
       "        <td>France</td>\n",
       "    </tr>\n",
       "    <tr>\n",
       "        <td>United Kingdom</td>\n",
       "    </tr>\n",
       "    <tr>\n",
       "        <td>Italy</td>\n",
       "    </tr>\n",
       "    <tr>\n",
       "        <td>Russian Federation</td>\n",
       "    </tr>\n",
       "    <tr>\n",
       "        <td>Ukraine</td>\n",
       "    </tr>\n",
       "</table>"
      ],
      "text/plain": [
       "[('Germany',),\n",
       " ('France',),\n",
       " ('United Kingdom',),\n",
       " ('Italy',),\n",
       " ('Russian Federation',),\n",
       " ('Ukraine',)]"
      ]
     },
     "execution_count": 18,
     "metadata": {},
     "output_type": "execute_result"
    }
   ],
   "source": [
    "%%sql\n",
    "WITH C AS (SELECT Name, Continent\n",
    "      FROM Country\n",
    "      WHERE Population >50000000)\n",
    "SELECT C.Name\n",
    "FROM C\n",
    "WHERE C.Continent = 'Europe' ;"
   ]
  },
  {
   "cell_type": "markdown",
   "metadata": {},
   "source": [
    "It is possible to have multiple `WITH` clauses in the beginning of a query, separated by commas."
   ]
  },
  {
   "cell_type": "markdown",
   "metadata": {},
   "source": [
    "**Exercise #2** Can you unnest this query?"
   ]
  },
  {
   "cell_type": "code",
   "execution_count": 26,
   "metadata": {},
   "outputs": [
    {
     "name": "stdout",
     "output_type": "stream",
     "text": [
      " * sqlite:///world-db\n",
      "Done.\n"
     ]
    },
    {
     "data": {
      "text/html": [
       "<table>\n",
       "    <tr>\n",
       "        <th>Name</th>\n",
       "    </tr>\n",
       "    <tr>\n",
       "        <td>Germany</td>\n",
       "    </tr>\n",
       "    <tr>\n",
       "        <td>France</td>\n",
       "    </tr>\n",
       "    <tr>\n",
       "        <td>United Kingdom</td>\n",
       "    </tr>\n",
       "    <tr>\n",
       "        <td>Italy</td>\n",
       "    </tr>\n",
       "    <tr>\n",
       "        <td>Russian Federation</td>\n",
       "    </tr>\n",
       "    <tr>\n",
       "        <td>Ukraine</td>\n",
       "    </tr>\n",
       "</table>"
      ],
      "text/plain": [
       "[('Germany',),\n",
       " ('France',),\n",
       " ('United Kingdom',),\n",
       " ('Italy',),\n",
       " ('Russian Federation',),\n",
       " ('Ukraine',)]"
      ]
     },
     "execution_count": 26,
     "metadata": {},
     "output_type": "execute_result"
    }
   ],
   "source": [
    "%%sql SELECT Name\n",
    "FROM Country \n",
    "WHERE Population > 50000000\n",
    "And Continent = 'Europe'"
   ]
  },
  {
   "cell_type": "markdown",
   "metadata": {},
   "source": [
    "The next query outputs all countries in Europe that have some city with population more than 5 million. It uses the `IN` operator."
   ]
  },
  {
   "cell_type": "code",
   "execution_count": 27,
   "metadata": {},
   "outputs": [
    {
     "name": "stdout",
     "output_type": "stream",
     "text": [
      " * sqlite:///world-db\n",
      "Done.\n"
     ]
    },
    {
     "data": {
      "text/html": [
       "<table>\n",
       "    <tr>\n",
       "        <th>Name</th>\n",
       "    </tr>\n",
       "    <tr>\n",
       "        <td>United Kingdom</td>\n",
       "    </tr>\n",
       "    <tr>\n",
       "        <td>Russian Federation</td>\n",
       "    </tr>\n",
       "</table>"
      ],
      "text/plain": [
       "[('United Kingdom',), ('Russian Federation',)]"
      ]
     },
     "execution_count": 27,
     "metadata": {},
     "output_type": "execute_result"
    }
   ],
   "source": [
    "%%sql\n",
    "SELECT C.Name\n",
    "FROM Country C\n",
    "WHERE C.Continent = 'Europe'\n",
    "AND C.Code IN (SELECT CountryCode\n",
    "               FROM City\n",
    "               WHERE Population > 5000000);"
   ]
  },
  {
   "cell_type": "markdown",
   "metadata": {},
   "source": [
    "An equivalent way to write the above query is by using the `EXISTS` statement. \n",
    "\n",
    "We call the subquery below `correlated`, because it uses a variable name that is `not` defined in the scope of the subquery."
   ]
  },
  {
   "cell_type": "code",
   "execution_count": 28,
   "metadata": {},
   "outputs": [
    {
     "name": "stdout",
     "output_type": "stream",
     "text": [
      " * sqlite:///world-db\n",
      "Done.\n"
     ]
    },
    {
     "data": {
      "text/html": [
       "<table>\n",
       "    <tr>\n",
       "        <th>Name</th>\n",
       "    </tr>\n",
       "    <tr>\n",
       "        <td>United Kingdom</td>\n",
       "    </tr>\n",
       "    <tr>\n",
       "        <td>Russian Federation</td>\n",
       "    </tr>\n",
       "</table>"
      ],
      "text/plain": [
       "[('United Kingdom',), ('Russian Federation',)]"
      ]
     },
     "execution_count": 28,
     "metadata": {},
     "output_type": "execute_result"
    }
   ],
   "source": [
    "%%sql\n",
    "SELECT C.Name\n",
    "FROM Country C\n",
    "WHERE C.Continent = 'Europe'\n",
    "AND EXISTS (SELECT *\n",
    "            FROM City T\n",
    "            WHERE T.Population > 5000000 \n",
    "            AND T.CountryCode = C.Code);"
   ]
  },
  {
   "cell_type": "markdown",
   "metadata": {},
   "source": [
    "We can even rewrite the above query using `ANY`. Unfortunately, SQLite does not support ANY/ALL, and thus running the query below will give an error."
   ]
  },
  {
   "cell_type": "code",
   "execution_count": 29,
   "metadata": {},
   "outputs": [
    {
     "name": "stdout",
     "output_type": "stream",
     "text": [
      " * sqlite:///world-db\n",
      "(sqlite3.OperationalError) near \"SELECT\": syntax error\n",
      "[SQL: SELECT C.Name FROM Country C\n",
      "WHERE C.Continent = 'Europe'\n",
      "AND 5000000 <= ANY (SELECT T.Population\n",
      "                    FROM City T\n",
      "                    WHERE T.CountryCode = C.Code);]\n",
      "(Background on this error at: http://sqlalche.me/e/e3q8)\n"
     ]
    }
   ],
   "source": [
    "%%sql\n",
    "SELECT C.Name\n",
    "FROM Country C\n",
    "WHERE C.Continent = 'Europe'\n",
    "AND 5000000 <= ANY (SELECT T.Population\n",
    "                    FROM City T\n",
    "                    WHERE T.CountryCode = C.Code);"
   ]
  },
  {
   "cell_type": "markdown",
   "metadata": {},
   "source": [
    "**Exercise #3** Can you unnest the above query?"
   ]
  },
  {
   "cell_type": "code",
   "execution_count": 37,
   "metadata": {},
   "outputs": [
    {
     "name": "stdout",
     "output_type": "stream",
     "text": [
      " * sqlite:///world-db\n",
      "Done.\n"
     ]
    },
    {
     "data": {
      "text/html": [
       "<table>\n",
       "    <tr>\n",
       "        <th>Name</th>\n",
       "    </tr>\n",
       "    <tr>\n",
       "        <td>United Kingdom</td>\n",
       "    </tr>\n",
       "    <tr>\n",
       "        <td>Russian Federation</td>\n",
       "    </tr>\n",
       "</table>"
      ],
      "text/plain": [
       "[('United Kingdom',), ('Russian Federation',)]"
      ]
     },
     "execution_count": 37,
     "metadata": {},
     "output_type": "execute_result"
    }
   ],
   "source": [
    "%%sql\n",
    "SELECT C.Name\n",
    "FROM Country C join City T on T.CountryCode = C.Code\n",
    "WHERE C.Continent = 'Europe'\n",
    "AND 5000000 < T.Population;"
   ]
  },
  {
   "cell_type": "markdown",
   "metadata": {},
   "source": [
    "Our final query for this activity outputs all countries in Europe that have **all** cities with population less than 1 million. "
   ]
  },
  {
   "cell_type": "code",
   "execution_count": 32,
   "metadata": {},
   "outputs": [
    {
     "name": "stdout",
     "output_type": "stream",
     "text": [
      " * sqlite:///world-db\n",
      "Done.\n"
     ]
    },
    {
     "data": {
      "text/html": [
       "<table>\n",
       "    <tr>\n",
       "        <th>Name</th>\n",
       "    </tr>\n",
       "    <tr>\n",
       "        <td>Albania</td>\n",
       "    </tr>\n",
       "    <tr>\n",
       "        <td>Andorra</td>\n",
       "    </tr>\n",
       "    <tr>\n",
       "        <td>Belgium</td>\n",
       "    </tr>\n",
       "    <tr>\n",
       "        <td>Bosnia and Herzegovina</td>\n",
       "    </tr>\n",
       "    <tr>\n",
       "        <td>Switzerland</td>\n",
       "    </tr>\n",
       "    <tr>\n",
       "        <td>Denmark</td>\n",
       "    </tr>\n",
       "    <tr>\n",
       "        <td>Estonia</td>\n",
       "    </tr>\n",
       "    <tr>\n",
       "        <td>Finland</td>\n",
       "    </tr>\n",
       "    <tr>\n",
       "        <td>Faroe Islands</td>\n",
       "    </tr>\n",
       "    <tr>\n",
       "        <td>Gibraltar</td>\n",
       "    </tr>\n",
       "    <tr>\n",
       "        <td>Greece</td>\n",
       "    </tr>\n",
       "    <tr>\n",
       "        <td>Croatia</td>\n",
       "    </tr>\n",
       "    <tr>\n",
       "        <td>Ireland</td>\n",
       "    </tr>\n",
       "    <tr>\n",
       "        <td>Iceland</td>\n",
       "    </tr>\n",
       "    <tr>\n",
       "        <td>Liechtenstein</td>\n",
       "    </tr>\n",
       "    <tr>\n",
       "        <td>Lithuania</td>\n",
       "    </tr>\n",
       "    <tr>\n",
       "        <td>Luxembourg</td>\n",
       "    </tr>\n",
       "    <tr>\n",
       "        <td>Latvia</td>\n",
       "    </tr>\n",
       "    <tr>\n",
       "        <td>Monaco</td>\n",
       "    </tr>\n",
       "    <tr>\n",
       "        <td>Moldova</td>\n",
       "    </tr>\n",
       "    <tr>\n",
       "        <td>Macedonia</td>\n",
       "    </tr>\n",
       "    <tr>\n",
       "        <td>Malta</td>\n",
       "    </tr>\n",
       "    <tr>\n",
       "        <td>Netherlands</td>\n",
       "    </tr>\n",
       "    <tr>\n",
       "        <td>Norway</td>\n",
       "    </tr>\n",
       "    <tr>\n",
       "        <td>Portugal</td>\n",
       "    </tr>\n",
       "    <tr>\n",
       "        <td>Svalbard and Jan Mayen</td>\n",
       "    </tr>\n",
       "    <tr>\n",
       "        <td>San Marino</td>\n",
       "    </tr>\n",
       "    <tr>\n",
       "        <td>Slovakia</td>\n",
       "    </tr>\n",
       "    <tr>\n",
       "        <td>Slovenia</td>\n",
       "    </tr>\n",
       "    <tr>\n",
       "        <td>Sweden</td>\n",
       "    </tr>\n",
       "    <tr>\n",
       "        <td>Holy See (Vatican City State)</td>\n",
       "    </tr>\n",
       "</table>"
      ],
      "text/plain": [
       "[('Albania',),\n",
       " ('Andorra',),\n",
       " ('Belgium',),\n",
       " ('Bosnia and Herzegovina',),\n",
       " ('Switzerland',),\n",
       " ('Denmark',),\n",
       " ('Estonia',),\n",
       " ('Finland',),\n",
       " ('Faroe Islands',),\n",
       " ('Gibraltar',),\n",
       " ('Greece',),\n",
       " ('Croatia',),\n",
       " ('Ireland',),\n",
       " ('Iceland',),\n",
       " ('Liechtenstein',),\n",
       " ('Lithuania',),\n",
       " ('Luxembourg',),\n",
       " ('Latvia',),\n",
       " ('Monaco',),\n",
       " ('Moldova',),\n",
       " ('Macedonia',),\n",
       " ('Malta',),\n",
       " ('Netherlands',),\n",
       " ('Norway',),\n",
       " ('Portugal',),\n",
       " ('Svalbard and Jan Mayen',),\n",
       " ('San Marino',),\n",
       " ('Slovakia',),\n",
       " ('Slovenia',),\n",
       " ('Sweden',),\n",
       " ('Holy See (Vatican City State)',)]"
      ]
     },
     "execution_count": 32,
     "metadata": {},
     "output_type": "execute_result"
    }
   ],
   "source": [
    "%%sql\n",
    "SELECT C.Name\n",
    "FROM Country C\n",
    "WHERE C.Continent = 'Europe'\n",
    "AND NOT EXISTS (SELECT *\n",
    "                FROM City T\n",
    "                WHERE T.Population > 1000000 \n",
    "                AND T.CountryCode = C.Code);"
   ]
  },
  {
   "cell_type": "markdown",
   "metadata": {},
   "source": [
    "**Exercise #4** Can you write the above query without nesting? Use instead the `EXCEPT` set operator!"
   ]
  },
  {
   "cell_type": "code",
   "execution_count": 36,
   "metadata": {},
   "outputs": [
    {
     "name": "stdout",
     "output_type": "stream",
     "text": [
      " * sqlite:///world-db\n",
      "Done.\n"
     ]
    },
    {
     "data": {
      "text/html": [
       "<table>\n",
       "    <tr>\n",
       "        <th>Name</th>\n",
       "    </tr>\n",
       "    <tr>\n",
       "        <td>Albania</td>\n",
       "    </tr>\n",
       "    <tr>\n",
       "        <td>Andorra</td>\n",
       "    </tr>\n",
       "    <tr>\n",
       "        <td>Belgium</td>\n",
       "    </tr>\n",
       "    <tr>\n",
       "        <td>Bosnia and Herzegovina</td>\n",
       "    </tr>\n",
       "    <tr>\n",
       "        <td>Croatia</td>\n",
       "    </tr>\n",
       "    <tr>\n",
       "        <td>Denmark</td>\n",
       "    </tr>\n",
       "    <tr>\n",
       "        <td>Estonia</td>\n",
       "    </tr>\n",
       "    <tr>\n",
       "        <td>Faroe Islands</td>\n",
       "    </tr>\n",
       "    <tr>\n",
       "        <td>Finland</td>\n",
       "    </tr>\n",
       "    <tr>\n",
       "        <td>Gibraltar</td>\n",
       "    </tr>\n",
       "    <tr>\n",
       "        <td>Greece</td>\n",
       "    </tr>\n",
       "    <tr>\n",
       "        <td>Holy See (Vatican City State)</td>\n",
       "    </tr>\n",
       "    <tr>\n",
       "        <td>Iceland</td>\n",
       "    </tr>\n",
       "    <tr>\n",
       "        <td>Ireland</td>\n",
       "    </tr>\n",
       "    <tr>\n",
       "        <td>Latvia</td>\n",
       "    </tr>\n",
       "    <tr>\n",
       "        <td>Liechtenstein</td>\n",
       "    </tr>\n",
       "    <tr>\n",
       "        <td>Lithuania</td>\n",
       "    </tr>\n",
       "    <tr>\n",
       "        <td>Luxembourg</td>\n",
       "    </tr>\n",
       "    <tr>\n",
       "        <td>Macedonia</td>\n",
       "    </tr>\n",
       "    <tr>\n",
       "        <td>Malta</td>\n",
       "    </tr>\n",
       "    <tr>\n",
       "        <td>Moldova</td>\n",
       "    </tr>\n",
       "    <tr>\n",
       "        <td>Monaco</td>\n",
       "    </tr>\n",
       "    <tr>\n",
       "        <td>Netherlands</td>\n",
       "    </tr>\n",
       "    <tr>\n",
       "        <td>Norway</td>\n",
       "    </tr>\n",
       "    <tr>\n",
       "        <td>Portugal</td>\n",
       "    </tr>\n",
       "    <tr>\n",
       "        <td>San Marino</td>\n",
       "    </tr>\n",
       "    <tr>\n",
       "        <td>Slovakia</td>\n",
       "    </tr>\n",
       "    <tr>\n",
       "        <td>Slovenia</td>\n",
       "    </tr>\n",
       "    <tr>\n",
       "        <td>Svalbard and Jan Mayen</td>\n",
       "    </tr>\n",
       "    <tr>\n",
       "        <td>Sweden</td>\n",
       "    </tr>\n",
       "    <tr>\n",
       "        <td>Switzerland</td>\n",
       "    </tr>\n",
       "</table>"
      ],
      "text/plain": [
       "[('Albania',),\n",
       " ('Andorra',),\n",
       " ('Belgium',),\n",
       " ('Bosnia and Herzegovina',),\n",
       " ('Croatia',),\n",
       " ('Denmark',),\n",
       " ('Estonia',),\n",
       " ('Faroe Islands',),\n",
       " ('Finland',),\n",
       " ('Gibraltar',),\n",
       " ('Greece',),\n",
       " ('Holy See (Vatican City State)',),\n",
       " ('Iceland',),\n",
       " ('Ireland',),\n",
       " ('Latvia',),\n",
       " ('Liechtenstein',),\n",
       " ('Lithuania',),\n",
       " ('Luxembourg',),\n",
       " ('Macedonia',),\n",
       " ('Malta',),\n",
       " ('Moldova',),\n",
       " ('Monaco',),\n",
       " ('Netherlands',),\n",
       " ('Norway',),\n",
       " ('Portugal',),\n",
       " ('San Marino',),\n",
       " ('Slovakia',),\n",
       " ('Slovenia',),\n",
       " ('Svalbard and Jan Mayen',),\n",
       " ('Sweden',),\n",
       " ('Switzerland',)]"
      ]
     },
     "execution_count": 36,
     "metadata": {},
     "output_type": "execute_result"
    }
   ],
   "source": [
    "%%sql\n",
    "SELECT C.Name\n",
    "FROM Country C join City T on T.CountryCode = C.Code\n",
    "WHERE C.Continent = 'Europe'\n",
    "Group by C.Name\n",
    "Having Max(T.Population)<1000000;"
   ]
  },
  {
   "cell_type": "code",
   "execution_count": 39,
   "metadata": {},
   "outputs": [
    {
     "name": "stdout",
     "output_type": "stream",
     "text": [
      " * sqlite:///world-db\n",
      "Done.\n"
     ]
    },
    {
     "data": {
      "text/html": [
       "<table>\n",
       "    <tr>\n",
       "        <th>Name</th>\n",
       "    </tr>\n",
       "    <tr>\n",
       "        <td>Albania</td>\n",
       "    </tr>\n",
       "    <tr>\n",
       "        <td>Andorra</td>\n",
       "    </tr>\n",
       "    <tr>\n",
       "        <td>Belgium</td>\n",
       "    </tr>\n",
       "    <tr>\n",
       "        <td>Bosnia and Herzegovina</td>\n",
       "    </tr>\n",
       "    <tr>\n",
       "        <td>Croatia</td>\n",
       "    </tr>\n",
       "    <tr>\n",
       "        <td>Denmark</td>\n",
       "    </tr>\n",
       "    <tr>\n",
       "        <td>Estonia</td>\n",
       "    </tr>\n",
       "    <tr>\n",
       "        <td>Faroe Islands</td>\n",
       "    </tr>\n",
       "    <tr>\n",
       "        <td>Finland</td>\n",
       "    </tr>\n",
       "    <tr>\n",
       "        <td>Gibraltar</td>\n",
       "    </tr>\n",
       "    <tr>\n",
       "        <td>Greece</td>\n",
       "    </tr>\n",
       "    <tr>\n",
       "        <td>Holy See (Vatican City State)</td>\n",
       "    </tr>\n",
       "    <tr>\n",
       "        <td>Iceland</td>\n",
       "    </tr>\n",
       "    <tr>\n",
       "        <td>Ireland</td>\n",
       "    </tr>\n",
       "    <tr>\n",
       "        <td>Latvia</td>\n",
       "    </tr>\n",
       "    <tr>\n",
       "        <td>Liechtenstein</td>\n",
       "    </tr>\n",
       "    <tr>\n",
       "        <td>Lithuania</td>\n",
       "    </tr>\n",
       "    <tr>\n",
       "        <td>Luxembourg</td>\n",
       "    </tr>\n",
       "    <tr>\n",
       "        <td>Macedonia</td>\n",
       "    </tr>\n",
       "    <tr>\n",
       "        <td>Malta</td>\n",
       "    </tr>\n",
       "    <tr>\n",
       "        <td>Moldova</td>\n",
       "    </tr>\n",
       "    <tr>\n",
       "        <td>Monaco</td>\n",
       "    </tr>\n",
       "    <tr>\n",
       "        <td>Netherlands</td>\n",
       "    </tr>\n",
       "    <tr>\n",
       "        <td>Norway</td>\n",
       "    </tr>\n",
       "    <tr>\n",
       "        <td>Portugal</td>\n",
       "    </tr>\n",
       "    <tr>\n",
       "        <td>San Marino</td>\n",
       "    </tr>\n",
       "    <tr>\n",
       "        <td>Slovakia</td>\n",
       "    </tr>\n",
       "    <tr>\n",
       "        <td>Slovenia</td>\n",
       "    </tr>\n",
       "    <tr>\n",
       "        <td>Svalbard and Jan Mayen</td>\n",
       "    </tr>\n",
       "    <tr>\n",
       "        <td>Sweden</td>\n",
       "    </tr>\n",
       "    <tr>\n",
       "        <td>Switzerland</td>\n",
       "    </tr>\n",
       "</table>"
      ],
      "text/plain": [
       "[('Albania',),\n",
       " ('Andorra',),\n",
       " ('Belgium',),\n",
       " ('Bosnia and Herzegovina',),\n",
       " ('Croatia',),\n",
       " ('Denmark',),\n",
       " ('Estonia',),\n",
       " ('Faroe Islands',),\n",
       " ('Finland',),\n",
       " ('Gibraltar',),\n",
       " ('Greece',),\n",
       " ('Holy See (Vatican City State)',),\n",
       " ('Iceland',),\n",
       " ('Ireland',),\n",
       " ('Latvia',),\n",
       " ('Liechtenstein',),\n",
       " ('Lithuania',),\n",
       " ('Luxembourg',),\n",
       " ('Macedonia',),\n",
       " ('Malta',),\n",
       " ('Moldova',),\n",
       " ('Monaco',),\n",
       " ('Netherlands',),\n",
       " ('Norway',),\n",
       " ('Portugal',),\n",
       " ('San Marino',),\n",
       " ('Slovakia',),\n",
       " ('Slovenia',),\n",
       " ('Svalbard and Jan Mayen',),\n",
       " ('Sweden',),\n",
       " ('Switzerland',)]"
      ]
     },
     "execution_count": 39,
     "metadata": {},
     "output_type": "execute_result"
    }
   ],
   "source": [
    "%%sql\n",
    "SELECT C.Name\n",
    "FROM Country C \n",
    "WHERE C.Continent = 'Europe'\n",
    "EXCEPT\n",
    "SELECT C.Name\n",
    "FROM Country C join City T on T.CountryCode = C.Code\n",
    "WHERE C.Continent = 'Europe'\n",
    "And T.Population>1000000;"
   ]
  },
  {
   "cell_type": "code",
   "execution_count": null,
   "metadata": {},
   "outputs": [],
   "source": []
  }
 ],
 "metadata": {
  "kernelspec": {
   "display_name": "Python 3",
   "language": "python",
   "name": "python3"
  },
  "language_info": {
   "codemirror_mode": {
    "name": "ipython",
    "version": 3
   },
   "file_extension": ".py",
   "mimetype": "text/x-python",
   "name": "python",
   "nbconvert_exporter": "python",
   "pygments_lexer": "ipython3",
   "version": "3.6.4"
  }
 },
 "nbformat": 4,
 "nbformat_minor": 1
}
