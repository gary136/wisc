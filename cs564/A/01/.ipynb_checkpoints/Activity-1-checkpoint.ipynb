{
 "cells": [
  {
   "cell_type": "markdown",
   "metadata": {},
   "source": [
    "Welcome to IPython notebook!\n",
    "--------------------------\n",
    "\n",
    "Time to get on with it and print the ceremonial `\"Hello world!`.\n",
    "\n",
    "To execute a cell, click on it, and then use SHIFT+ENTER (this will execute the contents of the cell, and move down to the next one!)\n",
    "\n",
    "There are other useful keyboard commands (see the Help menu) and the menu bar can always be used instead as well"
   ]
  },
  {
   "cell_type": "code",
   "execution_count": null,
   "metadata": {},
   "outputs": [],
   "source": [
    "print (\"Hello world!\")"
   ]
  },
  {
   "cell_type": "markdown",
   "metadata": {},
   "source": [
    "Now, for advanced users only:"
   ]
  },
  {
   "cell_type": "code",
   "execution_count": null,
   "metadata": {},
   "outputs": [],
   "source": [
    "import sys, time\n",
    "message = \"HELLO WORLD!\"\n",
    "\n",
    "L = len(message)\n",
    "for i in range(100):\n",
    "    time.sleep(0.1)\n",
    "    j = i % L\n",
    "    if j > 0:\n",
    "        sys.stdout.write(\"\\r\" + message[-j:] + \" \" + message[:L-j])\n",
    "    else:\n",
    "        sys.stdout.write(\"\\r\" + message)\n",
    "    sys.stdout.flush()"
   ]
  },
  {
   "cell_type": "markdown",
   "metadata": {},
   "source": [
    "When we want to work with SQL easily in an Ipython notebook, we'll load the ipython-sql [extension](https://github.com/catherinedevlin/ipython-sql). \n",
    "\n",
    "If you do not have this extension installed please type \n",
    "~~~~\n",
    "pip install ipython-sql\n",
    "~~~~\n",
    "\n",
    "**Note: DO NOT PANIC** \n",
    "* Don't worry if you get (a) a big red-highlighted warning or (b) a note that the extension has already been loaded!  As long as your SQL commands work, it's loaded properly!\n",
    "\n",
    "* If you don't understand all the SQL queries... very soon, you will!"
   ]
  },
  {
   "cell_type": "code",
   "execution_count": null,
   "metadata": {},
   "outputs": [],
   "source": [
    "%load_ext sql"
   ]
  },
  {
   "cell_type": "markdown",
   "metadata": {},
   "source": [
    "Next, we'll load an SQLite database stored as a file as follows:\n",
    "\n",
    "**NOTE: We load a file below (here, \"dataset_1.db\"), which must be in the same directory as the notebook. For this activity, make sure to download the one from Canvas!**"
   ]
  },
  {
   "cell_type": "code",
   "execution_count": null,
   "metadata": {},
   "outputs": [],
   "source": [
    "%sql sqlite:///dataset_1.db"
   ]
  },
  {
   "cell_type": "markdown",
   "metadata": {},
   "source": [
    "Lets look at one table from the US National Oceanic and Atmospheric Administration (NOAA) Rainfall dataset- `precipitation_full`- having the following schema:\n",
    "\n",
    "> * `state_code`\n",
    "> * `station_id`\n",
    "> * `year`\n",
    "> * `month`\n",
    "> * `day`\n",
    "> * `hour`\n",
    "> * `precipitation`\n",
    "> * `flag_1`\n",
    "> * `flag_2`\n",
    "\n",
    "Each tuple in this table describes one hour of rainfall (`precipitation`- in hundredths of an inch) at one station (`station_id`) in one state (`state_code`).  Note that tuples with `hour=25` record the total rainfall for that day, and that we can ignore the values of attributes `flag_1` and `flag_2` for now.\n",
    "\n",
    "Note that you can also load an empty in-memory database using:\n",
    "\n",
    "``%sql sqlite://``\n",
    "\n",
    "Now let's try out some SQL queries!  (Don't worry, if you're new to SQL, we'll go over all the syntax in more depth next lecture)\n",
    "\n",
    "**`%sql` is used for single line SQL commands:**"
   ]
  },
  {
   "cell_type": "code",
   "execution_count": null,
   "metadata": {},
   "outputs": [],
   "source": [
    "%sql SELECT * FROM precipitation_full LIMIT 5;"
   ]
  },
  {
   "cell_type": "code",
   "execution_count": null,
   "metadata": {},
   "outputs": [],
   "source": [
    "%sql SELECT COUNT(*) FROM precipitation_full;"
   ]
  },
  {
   "cell_type": "markdown",
   "metadata": {},
   "source": [
    "And **`%%sql` is used for multi-line SQL commands:**"
   ]
  },
  {
   "cell_type": "code",
   "execution_count": null,
   "metadata": {},
   "outputs": [],
   "source": [
    "%%sql\n",
    "SELECT SUM(p.precipitation) \n",
    "FROM precipitation_full p, states s \n",
    "WHERE p.state_code = s.code AND s.abbrev = 'CA';"
   ]
  },
  {
   "cell_type": "markdown",
   "metadata": {},
   "source": [
    "We can also work with the output of the queries we issue:"
   ]
  },
  {
   "cell_type": "code",
   "execution_count": null,
   "metadata": {},
   "outputs": [],
   "source": [
    "result = %sql SELECT * FROM states;"
   ]
  },
  {
   "cell_type": "code",
   "execution_count": null,
   "metadata": {},
   "outputs": [],
   "source": [
    "result.keys"
   ]
  },
  {
   "cell_type": "markdown",
   "metadata": {},
   "source": [
    "Note that the first row is the header row with column names!"
   ]
  },
  {
   "cell_type": "code",
   "execution_count": null,
   "metadata": {},
   "outputs": [],
   "source": [
    "result[1]"
   ]
  },
  {
   "cell_type": "code",
   "execution_count": null,
   "metadata": {},
   "outputs": [],
   "source": [
    "result[1].name"
   ]
  },
  {
   "cell_type": "markdown",
   "metadata": {},
   "source": [
    "Now feel free to experiment and have fun with the dataset!"
   ]
  }
 ],
 "metadata": {
  "kernelspec": {
   "display_name": "Python 3",
   "language": "python",
   "name": "python3"
  },
  "language_info": {
   "codemirror_mode": {
    "name": "ipython",
    "version": 3
   },
   "file_extension": ".py",
   "mimetype": "text/x-python",
   "name": "python",
   "nbconvert_exporter": "python",
   "pygments_lexer": "ipython3",
   "version": "3.6.4"
  }
 },
 "nbformat": 4,
 "nbformat_minor": 1
}
