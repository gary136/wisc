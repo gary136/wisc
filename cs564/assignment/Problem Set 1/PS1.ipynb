{
 "cells": [
  {
   "cell_type": "code",
   "execution_count": 2,
   "metadata": {},
   "outputs": [],
   "source": [
    "%load_ext sql\n",
    "%sql sqlite:///PS1.db"
   ]
  },
  {
   "cell_type": "markdown",
   "metadata": {},
   "source": [
    "Problem Set 1 [75 points]\n",
    "=======\n",
    "\n",
    "### Deliverables:\n",
    "\n",
    "Submit your queries (and only those) using the `submission_template.txt` file that is posted on the class website. Follow the instructions on the file! Upload the file at Canvas (under PS1).\n",
    "\n",
    "\n",
    "### Instructions / Notes:\n",
    "\n",
    "* Run the top cell above to load the database `PS1.db` (make sure the database file, `PS1.db`, is in the same directory as this IPython notebook is running in)\n",
    "* Some of the problems involve _changing_ this database (e.g. deleting rows)- you can always re-download `PS1.db` or make a copy if you want to start fresh!\n",
    "* You **may** create new IPython notebook cells to use for e.g. testing, debugging, exploring, etc.- this is encouraged in fact!- **just make sure that your final answer for each question is _in its own cell_ and _clearly indicated_**\n",
    "* When you see `In [*]:` to the left of the cell you are executing, this means that the code / query is _running_.\n",
    "    * **If the cell is hanging- i.e. running for too long: To restart the SQL connection, you must restart the entire python kernel**\n",
    "    * To restart kernel using the menu bar: \"Kernel >> Restart >> Clear all outputs & restart\"), then re-execute the sql connection cell at top\n",
    "    * You will also need to restart the connection if you want to load a different version of the database file\n",
    "* Remember:\n",
    "    * `%sql [SQL]` is for _single line_ SQL queries\n",
    "    * `%%sql [SQL]` is for _multi line_ SQL queries\n",
    "* _Have fun!_"
   ]
  },
  {
   "cell_type": "markdown",
   "metadata": {},
   "source": [
    "Problem 1: Linear Algebra [25 points]\n",
    "------------------------\n",
    "\n",
    "Two random 3x3 ($N=3$) matrices have been provided in tables `A` and `B`, having the following schema:\n",
    "> * `i INT`:   Row index\n",
    "> * `j INT`:   Column index\n",
    "> * `val INT`: Cell value\n",
    "\n",
    "**Note: all of your answers below _must_ work for any _square_ matrix sizes, i.e. any value of $N$**.\n",
    "\n",
    "Note how the matrices are represented - why do we choose this format?  Run the following queries to see the matrices in a nice format:"
   ]
  },
  {
   "cell_type": "code",
   "execution_count": 2,
   "metadata": {},
   "outputs": [
    {
     "name": "stdout",
     "output_type": "stream",
     "text": [
      " * sqlite:///PS1.db\n",
      "Done.\n"
     ]
    },
    {
     "data": {
      "text/html": [
       "<table>\n",
       "    <tr>\n",
       "        <th>A</th>\n",
       "    </tr>\n",
       "    <tr>\n",
       "        <td>7 , 5 , 8</td>\n",
       "    </tr>\n",
       "    <tr>\n",
       "        <td>10 , 7 , 7</td>\n",
       "    </tr>\n",
       "    <tr>\n",
       "        <td>2 , 0 , 5</td>\n",
       "    </tr>\n",
       "</table>"
      ],
      "text/plain": [
       "[('7 , 5 , 8',), ('10 , 7 , 7',), ('2 , 0 , 5',)]"
      ]
     },
     "execution_count": 2,
     "metadata": {},
     "output_type": "execute_result"
    }
   ],
   "source": [
    "%sql SELECT group_concat(val, \" , \") AS \"A\" FROM A GROUP BY i;"
   ]
  },
  {
   "cell_type": "code",
   "execution_count": 3,
   "metadata": {},
   "outputs": [
    {
     "name": "stdout",
     "output_type": "stream",
     "text": [
      " * sqlite:///PS1.db\n",
      "Done.\n"
     ]
    },
    {
     "data": {
      "text/html": [
       "<table>\n",
       "    <tr>\n",
       "        <th>B</th>\n",
       "    </tr>\n",
       "    <tr>\n",
       "        <td>9 , 6 , 10</td>\n",
       "    </tr>\n",
       "    <tr>\n",
       "        <td>7 , 6 , 9</td>\n",
       "    </tr>\n",
       "    <tr>\n",
       "        <td>1 , 1 , 7</td>\n",
       "    </tr>\n",
       "</table>"
      ],
      "text/plain": [
       "[('9 , 6 , 10',), ('7 , 6 , 9',), ('1 , 1 , 7',)]"
      ]
     },
     "execution_count": 3,
     "metadata": {},
     "output_type": "execute_result"
    }
   ],
   "source": [
    "%sql SELECT group_concat(val, \" , \") AS \"B\" FROM B GROUP BY i;"
   ]
  },
  {
   "cell_type": "code",
   "execution_count": 6,
   "metadata": {},
   "outputs": [
    {
     "name": "stdout",
     "output_type": "stream",
     "text": [
      " * sqlite:///PS1.db\n",
      "Done.\n"
     ]
    },
    {
     "data": {
      "text/html": [
       "<table>\n",
       "    <tr>\n",
       "        <th>i</th>\n",
       "        <th>j</th>\n",
       "        <th>val</th>\n",
       "    </tr>\n",
       "    <tr>\n",
       "        <td>0</td>\n",
       "        <td>0</td>\n",
       "        <td>7</td>\n",
       "    </tr>\n",
       "    <tr>\n",
       "        <td>0</td>\n",
       "        <td>1</td>\n",
       "        <td>5</td>\n",
       "    </tr>\n",
       "    <tr>\n",
       "        <td>0</td>\n",
       "        <td>2</td>\n",
       "        <td>8</td>\n",
       "    </tr>\n",
       "    <tr>\n",
       "        <td>1</td>\n",
       "        <td>0</td>\n",
       "        <td>10</td>\n",
       "    </tr>\n",
       "    <tr>\n",
       "        <td>1</td>\n",
       "        <td>1</td>\n",
       "        <td>7</td>\n",
       "    </tr>\n",
       "    <tr>\n",
       "        <td>1</td>\n",
       "        <td>2</td>\n",
       "        <td>7</td>\n",
       "    </tr>\n",
       "    <tr>\n",
       "        <td>2</td>\n",
       "        <td>0</td>\n",
       "        <td>2</td>\n",
       "    </tr>\n",
       "    <tr>\n",
       "        <td>2</td>\n",
       "        <td>1</td>\n",
       "        <td>0</td>\n",
       "    </tr>\n",
       "    <tr>\n",
       "        <td>2</td>\n",
       "        <td>2</td>\n",
       "        <td>5</td>\n",
       "    </tr>\n",
       "</table>"
      ],
      "text/plain": [
       "[(0, 0, 7),\n",
       " (0, 1, 5),\n",
       " (0, 2, 8),\n",
       " (1, 0, 10),\n",
       " (1, 1, 7),\n",
       " (1, 2, 7),\n",
       " (2, 0, 2),\n",
       " (2, 1, 0),\n",
       " (2, 2, 5)]"
      ]
     },
     "execution_count": 6,
     "metadata": {},
     "output_type": "execute_result"
    }
   ],
   "source": [
    "%%sql\n",
    "select * from A"
   ]
  },
  {
   "cell_type": "code",
   "execution_count": 7,
   "metadata": {},
   "outputs": [
    {
     "name": "stdout",
     "output_type": "stream",
     "text": [
      " * sqlite:///PS1.db\n",
      "Done.\n"
     ]
    },
    {
     "data": {
      "text/html": [
       "<table>\n",
       "    <tr>\n",
       "        <th>i</th>\n",
       "        <th>j</th>\n",
       "        <th>val</th>\n",
       "    </tr>\n",
       "    <tr>\n",
       "        <td>0</td>\n",
       "        <td>0</td>\n",
       "        <td>9</td>\n",
       "    </tr>\n",
       "    <tr>\n",
       "        <td>0</td>\n",
       "        <td>1</td>\n",
       "        <td>6</td>\n",
       "    </tr>\n",
       "    <tr>\n",
       "        <td>0</td>\n",
       "        <td>2</td>\n",
       "        <td>10</td>\n",
       "    </tr>\n",
       "    <tr>\n",
       "        <td>1</td>\n",
       "        <td>0</td>\n",
       "        <td>7</td>\n",
       "    </tr>\n",
       "    <tr>\n",
       "        <td>1</td>\n",
       "        <td>1</td>\n",
       "        <td>6</td>\n",
       "    </tr>\n",
       "    <tr>\n",
       "        <td>1</td>\n",
       "        <td>2</td>\n",
       "        <td>9</td>\n",
       "    </tr>\n",
       "    <tr>\n",
       "        <td>2</td>\n",
       "        <td>0</td>\n",
       "        <td>1</td>\n",
       "    </tr>\n",
       "    <tr>\n",
       "        <td>2</td>\n",
       "        <td>1</td>\n",
       "        <td>1</td>\n",
       "    </tr>\n",
       "    <tr>\n",
       "        <td>2</td>\n",
       "        <td>2</td>\n",
       "        <td>7</td>\n",
       "    </tr>\n",
       "</table>"
      ],
      "text/plain": [
       "[(0, 0, 9),\n",
       " (0, 1, 6),\n",
       " (0, 2, 10),\n",
       " (1, 0, 7),\n",
       " (1, 1, 6),\n",
       " (1, 2, 9),\n",
       " (2, 0, 1),\n",
       " (2, 1, 1),\n",
       " (2, 2, 7)]"
      ]
     },
     "execution_count": 7,
     "metadata": {},
     "output_type": "execute_result"
    }
   ],
   "source": [
    "%%sql\n",
    "select * from B"
   ]
  },
  {
   "cell_type": "markdown",
   "metadata": {},
   "source": [
    "### Part (a): Matrix addition [5 points]\n",
    "\n",
    "The sum of a matrix $A$ (having dimensions $n\\times m$) and a matrix $B$ (having dimensions $n\\times m$) is the matrix $C$ (of dimension $n\\times m$) having cell at row $i$ and column $j$ equal to:\n",
    "\n",
    "$C_{ij} = A_{ij} + B_{ij}$\n",
    "\n",
    "Write a single SQL query to get the sum of $A$ and $B$ (in the same format as $A$ and $B$):"
   ]
  },
  {
   "cell_type": "code",
   "execution_count": 7,
   "metadata": {},
   "outputs": [
    {
     "name": "stdout",
     "output_type": "stream",
     "text": [
      " * sqlite:///PS1.db\n",
      "Done.\n"
     ]
    },
    {
     "data": {
      "text/html": [
       "<table>\n",
       "    <tr>\n",
       "        <th>i</th>\n",
       "        <th>j</th>\n",
       "        <th>val</th>\n",
       "    </tr>\n",
       "    <tr>\n",
       "        <td>0</td>\n",
       "        <td>0</td>\n",
       "        <td>16</td>\n",
       "    </tr>\n",
       "    <tr>\n",
       "        <td>0</td>\n",
       "        <td>1</td>\n",
       "        <td>11</td>\n",
       "    </tr>\n",
       "    <tr>\n",
       "        <td>0</td>\n",
       "        <td>2</td>\n",
       "        <td>18</td>\n",
       "    </tr>\n",
       "    <tr>\n",
       "        <td>1</td>\n",
       "        <td>0</td>\n",
       "        <td>17</td>\n",
       "    </tr>\n",
       "    <tr>\n",
       "        <td>1</td>\n",
       "        <td>1</td>\n",
       "        <td>13</td>\n",
       "    </tr>\n",
       "    <tr>\n",
       "        <td>1</td>\n",
       "        <td>2</td>\n",
       "        <td>16</td>\n",
       "    </tr>\n",
       "    <tr>\n",
       "        <td>2</td>\n",
       "        <td>0</td>\n",
       "        <td>3</td>\n",
       "    </tr>\n",
       "    <tr>\n",
       "        <td>2</td>\n",
       "        <td>1</td>\n",
       "        <td>1</td>\n",
       "    </tr>\n",
       "    <tr>\n",
       "        <td>2</td>\n",
       "        <td>2</td>\n",
       "        <td>12</td>\n",
       "    </tr>\n",
       "</table>"
      ],
      "text/plain": [
       "[(0, 0, 16),\n",
       " (0, 1, 11),\n",
       " (0, 2, 18),\n",
       " (1, 0, 17),\n",
       " (1, 1, 13),\n",
       " (1, 2, 16),\n",
       " (2, 0, 3),\n",
       " (2, 1, 1),\n",
       " (2, 2, 12)]"
      ]
     },
     "execution_count": 7,
     "metadata": {},
     "output_type": "execute_result"
    }
   ],
   "source": [
    "\"\"\"\n",
    "Expected output below- don't re-evaluate this cell!\n",
    "\n",
    "NOTE: A valid answer must work for ALL inputs of the given type,\n",
    "not just this example.  I.e. do not hardcode around this answer / etc!\n",
    "\"\"\""
   ]
  },
  {
   "cell_type": "code",
   "execution_count": 7,
   "metadata": {},
   "outputs": [
    {
     "name": "stdout",
     "output_type": "stream",
     "text": [
      " * sqlite:///PS1.db\n",
      "Done.\n"
     ]
    },
    {
     "data": {
      "text/html": [
       "<table>\n",
       "    <tr>\n",
       "        <th>i</th>\n",
       "        <th>j</th>\n",
       "        <th>val</th>\n",
       "    </tr>\n",
       "    <tr>\n",
       "        <td>0</td>\n",
       "        <td>0</td>\n",
       "        <td>16</td>\n",
       "    </tr>\n",
       "    <tr>\n",
       "        <td>0</td>\n",
       "        <td>1</td>\n",
       "        <td>11</td>\n",
       "    </tr>\n",
       "    <tr>\n",
       "        <td>0</td>\n",
       "        <td>2</td>\n",
       "        <td>18</td>\n",
       "    </tr>\n",
       "    <tr>\n",
       "        <td>1</td>\n",
       "        <td>0</td>\n",
       "        <td>17</td>\n",
       "    </tr>\n",
       "    <tr>\n",
       "        <td>1</td>\n",
       "        <td>1</td>\n",
       "        <td>13</td>\n",
       "    </tr>\n",
       "    <tr>\n",
       "        <td>1</td>\n",
       "        <td>2</td>\n",
       "        <td>16</td>\n",
       "    </tr>\n",
       "    <tr>\n",
       "        <td>2</td>\n",
       "        <td>0</td>\n",
       "        <td>3</td>\n",
       "    </tr>\n",
       "    <tr>\n",
       "        <td>2</td>\n",
       "        <td>1</td>\n",
       "        <td>1</td>\n",
       "    </tr>\n",
       "    <tr>\n",
       "        <td>2</td>\n",
       "        <td>2</td>\n",
       "        <td>12</td>\n",
       "    </tr>\n",
       "</table>"
      ],
      "text/plain": [
       "[(0, 0, 16),\n",
       " (0, 1, 11),\n",
       " (0, 2, 18),\n",
       " (1, 0, 17),\n",
       " (1, 1, 13),\n",
       " (1, 2, 16),\n",
       " (2, 0, 3),\n",
       " (2, 1, 1),\n",
       " (2, 2, 12)]"
      ]
     },
     "execution_count": 7,
     "metadata": {},
     "output_type": "execute_result"
    }
   ],
   "source": [
    "%%sql\n",
    "select A.i, A.j, A.val+B.val val from A\n",
    "join B on A.i=B.i and A.j=B.j"
   ]
  },
  {
   "cell_type": "markdown",
   "metadata": {},
   "source": [
    "### Part (b): Dot product [5 points]\n",
    "\n",
    "The _dot product_ of two vectors\n",
    "\n",
    "$a = \\begin{bmatrix}a_1 & a_2 & \\dots & a_n\\end{bmatrix}$\n",
    "\n",
    "and\n",
    "\n",
    "$b = \\begin{bmatrix}b_1 & b_2 & \\dots & b_n\\end{bmatrix}$\n",
    "\n",
    "is\n",
    "\n",
    "$a\\cdot b = \\sum_{i=1}^n a_ib_i = a_1b_1 + a_2b_2 + \\dots + a_nb_n$\n",
    "\n",
    "Write a _single SQL query_ to take the dot product of the **third column of $A$** and the **second column of $B$.**:"
   ]
  },
  {
   "cell_type": "code",
   "execution_count": 8,
   "metadata": {},
   "outputs": [
    {
     "name": "stdout",
     "output_type": "stream",
     "text": [
      " * sqlite:///PS1.db\n",
      "Done.\n"
     ]
    },
    {
     "data": {
      "text/html": [
       "<table>\n",
       "    <tr>\n",
       "        <th>DotProduct</th>\n",
       "    </tr>\n",
       "    <tr>\n",
       "        <td>95</td>\n",
       "    </tr>\n",
       "</table>"
      ],
      "text/plain": [
       "[(95,)]"
      ]
     },
     "execution_count": 8,
     "metadata": {},
     "output_type": "execute_result"
    }
   ],
   "source": [
    "\"\"\"\n",
    "Expected output below- don't re-evaluate this cell!\n",
    "\n",
    "NOTE: A valid answer must work for ALL inputs of the given type,\n",
    "not just this example.  I.e. do not hardcode around this answer / etc!\n",
    "\"\"\""
   ]
  },
  {
   "cell_type": "code",
   "execution_count": 25,
   "metadata": {},
   "outputs": [
    {
     "name": "stdout",
     "output_type": "stream",
     "text": [
      " * sqlite:///PS1.db\n",
      "Done.\n"
     ]
    },
    {
     "data": {
      "text/html": [
       "<table>\n",
       "    <tr>\n",
       "        <th>DotProduct</th>\n",
       "    </tr>\n",
       "    <tr>\n",
       "        <td>95</td>\n",
       "    </tr>\n",
       "</table>"
      ],
      "text/plain": [
       "[(95,)]"
      ]
     },
     "execution_count": 25,
     "metadata": {},
     "output_type": "execute_result"
    }
   ],
   "source": [
    "%%sql\n",
    "select sum(A.val*B.val) DotProduct from A \n",
    "join B on A.i=B.i and A.j=2 and B.j=1"
   ]
  },
  {
   "cell_type": "code",
   "execution_count": null,
   "metadata": {},
   "outputs": [],
   "source": [
    "# [8 , 7 , 5] · [6 , 6 , 1]"
   ]
  },
  {
   "cell_type": "code",
   "execution_count": 19,
   "metadata": {},
   "outputs": [
    {
     "name": "stdout",
     "output_type": "stream",
     "text": [
      " * sqlite:///PS1.db\n",
      "Done.\n"
     ]
    },
    {
     "data": {
      "text/html": [
       "<table>\n",
       "    <tr>\n",
       "        <th>Ai</th>\n",
       "        <th>Aj</th>\n",
       "        <th>Bi</th>\n",
       "        <th>Bj</th>\n",
       "        <th>val</th>\n",
       "        <th>Aval</th>\n",
       "        <th>Bval</th>\n",
       "    </tr>\n",
       "    <tr>\n",
       "        <td>0</td>\n",
       "        <td>2</td>\n",
       "        <td>0</td>\n",
       "        <td>1</td>\n",
       "        <td>48</td>\n",
       "        <td>8</td>\n",
       "        <td>6</td>\n",
       "    </tr>\n",
       "    <tr>\n",
       "        <td>0</td>\n",
       "        <td>2</td>\n",
       "        <td>1</td>\n",
       "        <td>1</td>\n",
       "        <td>48</td>\n",
       "        <td>8</td>\n",
       "        <td>6</td>\n",
       "    </tr>\n",
       "    <tr>\n",
       "        <td>0</td>\n",
       "        <td>2</td>\n",
       "        <td>2</td>\n",
       "        <td>1</td>\n",
       "        <td>8</td>\n",
       "        <td>8</td>\n",
       "        <td>1</td>\n",
       "    </tr>\n",
       "    <tr>\n",
       "        <td>1</td>\n",
       "        <td>2</td>\n",
       "        <td>0</td>\n",
       "        <td>1</td>\n",
       "        <td>42</td>\n",
       "        <td>7</td>\n",
       "        <td>6</td>\n",
       "    </tr>\n",
       "    <tr>\n",
       "        <td>1</td>\n",
       "        <td>2</td>\n",
       "        <td>1</td>\n",
       "        <td>1</td>\n",
       "        <td>42</td>\n",
       "        <td>7</td>\n",
       "        <td>6</td>\n",
       "    </tr>\n",
       "    <tr>\n",
       "        <td>1</td>\n",
       "        <td>2</td>\n",
       "        <td>2</td>\n",
       "        <td>1</td>\n",
       "        <td>7</td>\n",
       "        <td>7</td>\n",
       "        <td>1</td>\n",
       "    </tr>\n",
       "    <tr>\n",
       "        <td>2</td>\n",
       "        <td>2</td>\n",
       "        <td>0</td>\n",
       "        <td>1</td>\n",
       "        <td>30</td>\n",
       "        <td>5</td>\n",
       "        <td>6</td>\n",
       "    </tr>\n",
       "    <tr>\n",
       "        <td>2</td>\n",
       "        <td>2</td>\n",
       "        <td>1</td>\n",
       "        <td>1</td>\n",
       "        <td>30</td>\n",
       "        <td>5</td>\n",
       "        <td>6</td>\n",
       "    </tr>\n",
       "    <tr>\n",
       "        <td>2</td>\n",
       "        <td>2</td>\n",
       "        <td>2</td>\n",
       "        <td>1</td>\n",
       "        <td>5</td>\n",
       "        <td>5</td>\n",
       "        <td>1</td>\n",
       "    </tr>\n",
       "</table>"
      ],
      "text/plain": [
       "[(0, 2, 0, 1, 48, 8, 6),\n",
       " (0, 2, 1, 1, 48, 8, 6),\n",
       " (0, 2, 2, 1, 8, 8, 1),\n",
       " (1, 2, 0, 1, 42, 7, 6),\n",
       " (1, 2, 1, 1, 42, 7, 6),\n",
       " (1, 2, 2, 1, 7, 7, 1),\n",
       " (2, 2, 0, 1, 30, 5, 6),\n",
       " (2, 2, 1, 1, 30, 5, 6),\n",
       " (2, 2, 2, 1, 5, 5, 1)]"
      ]
     },
     "execution_count": 19,
     "metadata": {},
     "output_type": "execute_result"
    }
   ],
   "source": [
    "%%sql\n",
    "select A.i Ai, A.j Aj, B.i Bi, B.j Bj, A.val*B.val val, A.val Aval, B.val Bval from A \n",
    "join B on A.j=2 and B.j=1"
   ]
  },
  {
   "cell_type": "markdown",
   "metadata": {},
   "source": [
    "### Part (c): Matrix multiplication [5 points]\n",
    "\n",
    "The product of a matrix $A$ (having dimensions $n\\times m$) and a matrix $B$ (having dimensions $m\\times p$) is the matrix $C$ (of dimension $n\\times p$) having cell at row $i$ and column $j$ equal to:\n",
    "\n",
    "$C_{ij} = \\sum_{k=1}^m A_{ik}B_{kj}$\n",
    "\n",
    "In other words, to multiply two matrices, get each cell of the resulting matrix $C$, $C_{ij}$, by taking the _dot product_ of the $i$th row of $A$ and the $j$th column of $B$.\n",
    "\n",
    "Write a single SQL query to get the matrix product of $A$ and $B$ (in the same format as $A$ and $B$):"
   ]
  },
  {
   "cell_type": "code",
   "execution_count": 7,
   "metadata": {},
   "outputs": [
    {
     "name": "stdout",
     "output_type": "stream",
     "text": [
      "Done.\n"
     ]
    },
    {
     "data": {
      "text/html": [
       "<table>\n",
       "    <tr>\n",
       "        <th>i</th>\n",
       "        <th>j</th>\n",
       "        <th>val</th>\n",
       "    </tr>\n",
       "    <tr>\n",
       "        <td>0</td>\n",
       "        <td>0</td>\n",
       "        <td>106</td>\n",
       "    </tr>\n",
       "    <tr>\n",
       "        <td>0</td>\n",
       "        <td>1</td>\n",
       "        <td>80</td>\n",
       "    </tr>\n",
       "    <tr>\n",
       "        <td>0</td>\n",
       "        <td>2</td>\n",
       "        <td>171</td>\n",
       "    </tr>\n",
       "    <tr>\n",
       "        <td>1</td>\n",
       "        <td>0</td>\n",
       "        <td>146</td>\n",
       "    </tr>\n",
       "    <tr>\n",
       "        <td>1</td>\n",
       "        <td>1</td>\n",
       "        <td>109</td>\n",
       "    </tr>\n",
       "    <tr>\n",
       "        <td>1</td>\n",
       "        <td>2</td>\n",
       "        <td>212</td>\n",
       "    </tr>\n",
       "    <tr>\n",
       "        <td>2</td>\n",
       "        <td>0</td>\n",
       "        <td>23</td>\n",
       "    </tr>\n",
       "    <tr>\n",
       "        <td>2</td>\n",
       "        <td>1</td>\n",
       "        <td>17</td>\n",
       "    </tr>\n",
       "    <tr>\n",
       "        <td>2</td>\n",
       "        <td>2</td>\n",
       "        <td>55</td>\n",
       "    </tr>\n",
       "</table>"
      ],
      "text/plain": [
       "[(0, 0, 106),\n",
       " (0, 1, 80),\n",
       " (0, 2, 171),\n",
       " (1, 0, 146),\n",
       " (1, 1, 109),\n",
       " (1, 2, 212),\n",
       " (2, 0, 23),\n",
       " (2, 1, 17),\n",
       " (2, 2, 55)]"
      ]
     },
     "execution_count": 7,
     "metadata": {},
     "output_type": "execute_result"
    }
   ],
   "source": [
    "\"\"\"\n",
    "Expected output below- don't re-evaluate this cell!\n",
    "\n",
    "NOTE: A valid answer must work for ALL inputs of the given type,\n",
    "not just this example.  I.e. do not hardcode around this answer / etc!\n",
    "\"\"\""
   ]
  },
  {
   "cell_type": "code",
   "execution_count": 96,
   "metadata": {},
   "outputs": [
    {
     "name": "stdout",
     "output_type": "stream",
     "text": [
      " * sqlite:///PS1.db\n",
      "Done.\n"
     ]
    },
    {
     "data": {
      "text/html": [
       "<table>\n",
       "    <tr>\n",
       "        <th>i</th>\n",
       "        <th>j</th>\n",
       "        <th>val</th>\n",
       "    </tr>\n",
       "    <tr>\n",
       "        <td>0</td>\n",
       "        <td>0</td>\n",
       "        <td>106</td>\n",
       "    </tr>\n",
       "    <tr>\n",
       "        <td>0</td>\n",
       "        <td>1</td>\n",
       "        <td>80</td>\n",
       "    </tr>\n",
       "    <tr>\n",
       "        <td>0</td>\n",
       "        <td>2</td>\n",
       "        <td>171</td>\n",
       "    </tr>\n",
       "    <tr>\n",
       "        <td>1</td>\n",
       "        <td>0</td>\n",
       "        <td>146</td>\n",
       "    </tr>\n",
       "    <tr>\n",
       "        <td>1</td>\n",
       "        <td>1</td>\n",
       "        <td>109</td>\n",
       "    </tr>\n",
       "    <tr>\n",
       "        <td>1</td>\n",
       "        <td>2</td>\n",
       "        <td>212</td>\n",
       "    </tr>\n",
       "    <tr>\n",
       "        <td>2</td>\n",
       "        <td>0</td>\n",
       "        <td>23</td>\n",
       "    </tr>\n",
       "    <tr>\n",
       "        <td>2</td>\n",
       "        <td>1</td>\n",
       "        <td>17</td>\n",
       "    </tr>\n",
       "    <tr>\n",
       "        <td>2</td>\n",
       "        <td>2</td>\n",
       "        <td>55</td>\n",
       "    </tr>\n",
       "</table>"
      ],
      "text/plain": [
       "[(0, 0, 106),\n",
       " (0, 1, 80),\n",
       " (0, 2, 171),\n",
       " (1, 0, 146),\n",
       " (1, 1, 109),\n",
       " (1, 2, 212),\n",
       " (2, 0, 23),\n",
       " (2, 1, 17),\n",
       " (2, 2, 55)]"
      ]
     },
     "execution_count": 96,
     "metadata": {},
     "output_type": "execute_result"
    }
   ],
   "source": [
    "%%sql\n",
    "select A.i, B.j, sum(A.val*B.val) val from A \n",
    "join B on A.j=B.i\n",
    "group by A.i, B.j"
   ]
  },
  {
   "cell_type": "code",
   "execution_count": 71,
   "metadata": {
    "scrolled": true
   },
   "outputs": [
    {
     "name": "stdout",
     "output_type": "stream",
     "text": [
      " * sqlite:///PS1.db\n",
      "Done.\n"
     ]
    },
    {
     "data": {
      "text/html": [
       "<table>\n",
       "    <tr>\n",
       "        <th>Ai</th>\n",
       "        <th>Aj</th>\n",
       "        <th>Bi</th>\n",
       "        <th>Bj</th>\n",
       "        <th>val</th>\n",
       "        <th>Aval</th>\n",
       "        <th>Bval</th>\n",
       "    </tr>\n",
       "    <tr>\n",
       "        <td>0</td>\n",
       "        <td>0</td>\n",
       "        <td>0</td>\n",
       "        <td>0</td>\n",
       "        <td>63</td>\n",
       "        <td>7</td>\n",
       "        <td>9</td>\n",
       "    </tr>\n",
       "    <tr>\n",
       "        <td>0</td>\n",
       "        <td>1</td>\n",
       "        <td>1</td>\n",
       "        <td>0</td>\n",
       "        <td>35</td>\n",
       "        <td>5</td>\n",
       "        <td>7</td>\n",
       "    </tr>\n",
       "    <tr>\n",
       "        <td>0</td>\n",
       "        <td>2</td>\n",
       "        <td>2</td>\n",
       "        <td>0</td>\n",
       "        <td>8</td>\n",
       "        <td>8</td>\n",
       "        <td>1</td>\n",
       "    </tr>\n",
       "</table>"
      ],
      "text/plain": [
       "[(0, 0, 0, 0, 63, 7, 9), (0, 1, 1, 0, 35, 5, 7), (0, 2, 2, 0, 8, 8, 1)]"
      ]
     },
     "execution_count": 71,
     "metadata": {},
     "output_type": "execute_result"
    }
   ],
   "source": [
    "%%sql\n",
    "select A.i Ai, A.j Aj, B.i Bi, B.j Bj, sum(A.val*B.val) val, A.val Aval, B.val Bval from A \n",
    "join B on Ai=0 and Bj=0 and Aj=Bi\n",
    "group by A.i, A.j, B.i, B.j"
   ]
  },
  {
   "cell_type": "code",
   "execution_count": null,
   "metadata": {},
   "outputs": [],
   "source": [
    "106 = 7*9 + 5*7 + 8*1\n",
    "AB00 = A00*B00 + A01*B10 + A02*B20"
   ]
  },
  {
   "cell_type": "code",
   "execution_count": 21,
   "metadata": {},
   "outputs": [
    {
     "name": "stdout",
     "output_type": "stream",
     "text": [
      " * sqlite:///PS1.db\n",
      "Done.\n"
     ]
    },
    {
     "data": {
      "text/html": [
       "<table>\n",
       "    <tr>\n",
       "        <th>Ai</th>\n",
       "        <th>val</th>\n",
       "    </tr>\n",
       "    <tr>\n",
       "        <td>0</td>\n",
       "        <td>106</td>\n",
       "    </tr>\n",
       "</table>"
      ],
      "text/plain": [
       "[(0, 106)]"
      ]
     },
     "execution_count": 21,
     "metadata": {},
     "output_type": "execute_result"
    }
   ],
   "source": [
    "%%sql\n",
    "select A.i Ai, sum(A.val*B.val) val from A \n",
    "join B on A.i=0 and B.j=0 and A.j=B.i\n",
    "group by A.i"
   ]
  },
  {
   "cell_type": "code",
   "execution_count": 14,
   "metadata": {},
   "outputs": [
    {
     "name": "stdout",
     "output_type": "stream",
     "text": [
      " * sqlite:///PS1.db\n",
      "Done.\n"
     ]
    },
    {
     "data": {
      "text/html": [
       "<table>\n",
       "    <tr>\n",
       "        <th>A</th>\n",
       "    </tr>\n",
       "    <tr>\n",
       "        <td>7 , 5 , 8</td>\n",
       "    </tr>\n",
       "    <tr>\n",
       "        <td>10 , 7 , 7</td>\n",
       "    </tr>\n",
       "    <tr>\n",
       "        <td>2 , 0 , 5</td>\n",
       "    </tr>\n",
       "</table>"
      ],
      "text/plain": [
       "[('7 , 5 , 8',), ('10 , 7 , 7',), ('2 , 0 , 5',)]"
      ]
     },
     "execution_count": 14,
     "metadata": {},
     "output_type": "execute_result"
    }
   ],
   "source": [
    "%sql SELECT group_concat(val, \" , \") AS \"A\" FROM A GROUP BY i;"
   ]
  },
  {
   "cell_type": "code",
   "execution_count": 15,
   "metadata": {},
   "outputs": [
    {
     "name": "stdout",
     "output_type": "stream",
     "text": [
      " * sqlite:///PS1.db\n",
      "Done.\n"
     ]
    },
    {
     "data": {
      "text/html": [
       "<table>\n",
       "    <tr>\n",
       "        <th>B</th>\n",
       "    </tr>\n",
       "    <tr>\n",
       "        <td>9 , 6 , 10</td>\n",
       "    </tr>\n",
       "    <tr>\n",
       "        <td>7 , 6 , 9</td>\n",
       "    </tr>\n",
       "    <tr>\n",
       "        <td>1 , 1 , 7</td>\n",
       "    </tr>\n",
       "</table>"
      ],
      "text/plain": [
       "[('9 , 6 , 10',), ('7 , 6 , 9',), ('1 , 1 , 7',)]"
      ]
     },
     "execution_count": 15,
     "metadata": {},
     "output_type": "execute_result"
    }
   ],
   "source": [
    "%sql SELECT group_concat(val, \" , \") AS \"B\" FROM B GROUP BY i;"
   ]
  },
  {
   "cell_type": "markdown",
   "metadata": {},
   "source": [
    "### Part (d): Matrix power [10 points]\n",
    "\n",
    "The power $A^n$ of a matrix $A$ is defined as the matrix product of $n$ copies of $A$. \n",
    "\n",
    "Write a _single SQL query_ that computes the **fourth power** of matrix $A$, in other words, $A^4 = A \\cdot A \\cdot A \\cdot A$:"
   ]
  },
  {
   "cell_type": "code",
   "execution_count": 10,
   "metadata": {},
   "outputs": [
    {
     "name": "stdout",
     "output_type": "stream",
     "text": [
      " * sqlite:///PS1.db\n",
      "Done.\n"
     ]
    },
    {
     "data": {
      "text/html": [
       "<table>\n",
       "    <tr>\n",
       "        <th>i</th>\n",
       "        <th>j</th>\n",
       "        <th>val</th>\n",
       "    </tr>\n",
       "    <tr>\n",
       "        <td>0</td>\n",
       "        <td>0</td>\n",
       "        <td>27149</td>\n",
       "    </tr>\n",
       "    <tr>\n",
       "        <td>0</td>\n",
       "        <td>1</td>\n",
       "        <td>16290</td>\n",
       "    </tr>\n",
       "    <tr>\n",
       "        <td>0</td>\n",
       "        <td>2</td>\n",
       "        <td>31916</td>\n",
       "    </tr>\n",
       "    <tr>\n",
       "        <td>1</td>\n",
       "        <td>0</td>\n",
       "        <td>36892</td>\n",
       "    </tr>\n",
       "    <tr>\n",
       "        <td>1</td>\n",
       "        <td>1</td>\n",
       "        <td>22221</td>\n",
       "    </tr>\n",
       "    <tr>\n",
       "        <td>1</td>\n",
       "        <td>2</td>\n",
       "        <td>43134</td>\n",
       "    </tr>\n",
       "    <tr>\n",
       "        <td>2</td>\n",
       "        <td>0</td>\n",
       "        <td>5284</td>\n",
       "    </tr>\n",
       "    <tr>\n",
       "        <td>2</td>\n",
       "        <td>1</td>\n",
       "        <td>3080</td>\n",
       "    </tr>\n",
       "    <tr>\n",
       "        <td>2</td>\n",
       "        <td>2</td>\n",
       "        <td>6465</td>\n",
       "    </tr>\n",
       "</table>"
      ],
      "text/plain": [
       "[(0, 0, 27149),\n",
       " (0, 1, 16290),\n",
       " (0, 2, 31916),\n",
       " (1, 0, 36892),\n",
       " (1, 1, 22221),\n",
       " (1, 2, 43134),\n",
       " (2, 0, 5284),\n",
       " (2, 1, 3080),\n",
       " (2, 2, 6465)]"
      ]
     },
     "execution_count": 10,
     "metadata": {},
     "output_type": "execute_result"
    }
   ],
   "source": [
    "\"\"\"\n",
    "Expected output below- don't re-evaluate this cell!\n",
    "\n",
    "NOTE: A valid answer must work for ALL inputs of the given type,\n",
    "not just this example.  I.e. do not hardcode around this answer / etc!\n",
    "\"\"\""
   ]
  },
  {
   "cell_type": "code",
   "execution_count": 32,
   "metadata": {},
   "outputs": [
    {
     "name": "stdout",
     "output_type": "stream",
     "text": [
      " * sqlite:///PS1.db\n",
      "Done.\n"
     ]
    },
    {
     "data": {
      "text/html": [
       "<table>\n",
       "    <tr>\n",
       "        <th>i</th>\n",
       "        <th>j</th>\n",
       "        <th>val</th>\n",
       "    </tr>\n",
       "    <tr>\n",
       "        <td>0</td>\n",
       "        <td>0</td>\n",
       "        <td>27149</td>\n",
       "    </tr>\n",
       "    <tr>\n",
       "        <td>0</td>\n",
       "        <td>1</td>\n",
       "        <td>16290</td>\n",
       "    </tr>\n",
       "    <tr>\n",
       "        <td>0</td>\n",
       "        <td>2</td>\n",
       "        <td>31916</td>\n",
       "    </tr>\n",
       "    <tr>\n",
       "        <td>1</td>\n",
       "        <td>0</td>\n",
       "        <td>36892</td>\n",
       "    </tr>\n",
       "    <tr>\n",
       "        <td>1</td>\n",
       "        <td>1</td>\n",
       "        <td>22221</td>\n",
       "    </tr>\n",
       "    <tr>\n",
       "        <td>1</td>\n",
       "        <td>2</td>\n",
       "        <td>43134</td>\n",
       "    </tr>\n",
       "    <tr>\n",
       "        <td>2</td>\n",
       "        <td>0</td>\n",
       "        <td>5284</td>\n",
       "    </tr>\n",
       "    <tr>\n",
       "        <td>2</td>\n",
       "        <td>1</td>\n",
       "        <td>3080</td>\n",
       "    </tr>\n",
       "    <tr>\n",
       "        <td>2</td>\n",
       "        <td>2</td>\n",
       "        <td>6465</td>\n",
       "    </tr>\n",
       "</table>"
      ],
      "text/plain": [
       "[(0, 0, 27149),\n",
       " (0, 1, 16290),\n",
       " (0, 2, 31916),\n",
       " (1, 0, 36892),\n",
       " (1, 1, 22221),\n",
       " (1, 2, 43134),\n",
       " (2, 0, 5284),\n",
       " (2, 1, 3080),\n",
       " (2, 2, 6465)]"
      ]
     },
     "execution_count": 32,
     "metadata": {},
     "output_type": "execute_result"
    }
   ],
   "source": [
    "%%sql\n",
    "select A1.i, A2.j, sum(A1.val*A2.val) val \n",
    "from(select A1.i, A2.j, sum(A1.val*A2.val) val \n",
    "     from(\n",
    "        select A1.i, A2.j, sum(A1.val*A2.val) val \n",
    "        from A A1 join A A2 on A1.j=A2.i\n",
    "        group by A1.i, A2.j\n",
    "        )A1 join A A2 on A1.j=A2.i\n",
    "    group by A1.i, A2.j\n",
    ")A1 join A A2 on A1.j=A2.i\n",
    "group by A1.i, A2.j"
   ]
  },
  {
   "cell_type": "code",
   "execution_count": 16,
   "metadata": {},
   "outputs": [
    {
     "name": "stdout",
     "output_type": "stream",
     "text": [
      " * sqlite:///PS1.db\n",
      "Done.\n"
     ]
    },
    {
     "data": {
      "text/html": [
       "<table>\n",
       "    <tr>\n",
       "        <th>A</th>\n",
       "    </tr>\n",
       "    <tr>\n",
       "        <td>7 , 5 , 8</td>\n",
       "    </tr>\n",
       "    <tr>\n",
       "        <td>10 , 7 , 7</td>\n",
       "    </tr>\n",
       "    <tr>\n",
       "        <td>2 , 0 , 5</td>\n",
       "    </tr>\n",
       "</table>"
      ],
      "text/plain": [
       "[('7 , 5 , 8',), ('10 , 7 , 7',), ('2 , 0 , 5',)]"
      ]
     },
     "execution_count": 16,
     "metadata": {},
     "output_type": "execute_result"
    }
   ],
   "source": [
    "%sql SELECT group_concat(val, \" , \") AS \"A\" FROM A GROUP BY i;"
   ]
  },
  {
   "cell_type": "code",
   "execution_count": 17,
   "metadata": {},
   "outputs": [
    {
     "name": "stdout",
     "output_type": "stream",
     "text": [
      " * sqlite:///PS1.db\n",
      "Done.\n"
     ]
    },
    {
     "data": {
      "text/html": [
       "<table>\n",
       "    <tr>\n",
       "        <th>A</th>\n",
       "    </tr>\n",
       "    <tr>\n",
       "        <td>7 , 10 , 2</td>\n",
       "    </tr>\n",
       "    <tr>\n",
       "        <td>5 , 7 , 0</td>\n",
       "    </tr>\n",
       "    <tr>\n",
       "        <td>8 , 7 , 5</td>\n",
       "    </tr>\n",
       "</table>"
      ],
      "text/plain": [
       "[('7 , 10 , 2',), ('5 , 7 , 0',), ('8 , 7 , 5',)]"
      ]
     },
     "execution_count": 17,
     "metadata": {},
     "output_type": "execute_result"
    }
   ],
   "source": [
    "%sql SELECT group_concat(val, \" , \") AS \"A\" FROM A GROUP BY j;"
   ]
  },
  {
   "cell_type": "markdown",
   "metadata": {},
   "source": [
    "Problem 2: The Sales Database [25 points]\n",
    "----------------------------------------------\n",
    "\n",
    "We've prepared and loaded a dataset related to sales data from a company. The dataset has the following schema:\n",
    "\n",
    "> `Holidays (WeekDate, IsHoliday)`\n",
    "\n",
    "> `Stores (Store, Type, Size)`\n",
    "\n",
    "> `TemporalData(Store, WeekDate, Temperature, FuelPrice, CPI, UnemploymentRate)`\n",
    "\n",
    "> `Sales (Store, Dept, WeekDate, WeeklySales)`\n",
    "\n",
    "Before you start writing queries on the database, find the schema and the constraints (keys, foreign keys). "
   ]
  },
  {
   "cell_type": "markdown",
   "metadata": {},
   "source": [
    "### Part (a): Sales during Holidays [10 points]\n",
    "\n",
    "Using a _single SQL query_, find the store(s) with the largest overall sales during holiday weeks. Further requirements:\n",
    "* Use the `WITH` clause before the main body of the query to compute a subquery if necessary.\n",
    "* Return a relation with schema `(Store, AllSales)`.\n",
    "\n",
    "Write your query here:"
   ]
  },
  {
   "cell_type": "code",
   "execution_count": 42,
   "metadata": {},
   "outputs": [
    {
     "name": "stdout",
     "output_type": "stream",
     "text": [
      " * sqlite:///PS1.db\n",
      "Done.\n"
     ]
    },
    {
     "data": {
      "text/html": [
       "<table>\n",
       "    <tr>\n",
       "        <th>Store</th>\n",
       "        <th>AllSales</th>\n",
       "    </tr>\n",
       "    <tr>\n",
       "        <td>20</td>\n",
       "        <td>22490350.81000001</td>\n",
       "    </tr>\n",
       "</table>"
      ],
      "text/plain": [
       "[(20, 22490350.81000001)]"
      ]
     },
     "execution_count": 42,
     "metadata": {},
     "output_type": "execute_result"
    }
   ],
   "source": [
    "\"\"\"\n",
    "Expected output below- don't re-evaluate this cell!\n",
    "\n",
    "NOTE: A valid answer must work for ALL inputs of the given type,\n",
    "not just this example.  I.e. do not hardcode around this answer / etc!\n",
    "\"\"\""
   ]
  },
  {
   "cell_type": "code",
   "execution_count": 9,
   "metadata": {},
   "outputs": [
    {
     "name": "stdout",
     "output_type": "stream",
     "text": [
      " * sqlite:///PS1.db\n",
      "Done.\n"
     ]
    },
    {
     "data": {
      "text/html": [
       "<table>\n",
       "    <tr>\n",
       "        <th>Store</th>\n",
       "        <th>AllSales</th>\n",
       "    </tr>\n",
       "    <tr>\n",
       "        <td>20</td>\n",
       "        <td>22490350.810000002</td>\n",
       "    </tr>\n",
       "</table>"
      ],
      "text/plain": [
       "[(20, 22490350.810000002)]"
      ]
     },
     "execution_count": 9,
     "metadata": {},
     "output_type": "execute_result"
    }
   ],
   "source": [
    "%%sql\n",
    "select SH.store Store, sum(SH.AllSales) AllSales\n",
    "from (\n",
    "select S.store, S.weekdate, sum(S.weeklysales) AllSales \n",
    "from Sales S join Holidays H on S.weekdate=H.weekdate\n",
    "where H.isholiday = \"TRUE\"\n",
    "group by 1,2\n",
    ")SH\n",
    "group by 1\n",
    "order by 2 desc\n",
    "limit 1"
   ]
  },
  {
   "cell_type": "code",
   "execution_count": 73,
   "metadata": {},
   "outputs": [
    {
     "name": "stdout",
     "output_type": "stream",
     "text": [
      " * sqlite:///PS1.db\n",
      "Done.\n"
     ]
    },
    {
     "data": {
      "text/html": [
       "<table>\n",
       "    <tr>\n",
       "        <th>store</th>\n",
       "        <th>weekdate</th>\n",
       "        <th>sum(weeklysales)</th>\n",
       "    </tr>\n",
       "    <tr>\n",
       "        <td>1</td>\n",
       "        <td>2010-02-05</td>\n",
       "        <td>1643690.9</td>\n",
       "    </tr>\n",
       "    <tr>\n",
       "        <td>2</td>\n",
       "        <td>2010-02-05</td>\n",
       "        <td>2136989.46</td>\n",
       "    </tr>\n",
       "    <tr>\n",
       "        <td>3</td>\n",
       "        <td>2010-02-05</td>\n",
       "        <td>461622.22</td>\n",
       "    </tr>\n",
       "    <tr>\n",
       "        <td>4</td>\n",
       "        <td>2010-02-05</td>\n",
       "        <td>2135143.87</td>\n",
       "    </tr>\n",
       "    <tr>\n",
       "        <td>5</td>\n",
       "        <td>2010-02-05</td>\n",
       "        <td>317173.0999999999</td>\n",
       "    </tr>\n",
       "</table>"
      ],
      "text/plain": [
       "[(1, '2010-02-05', 1643690.9),\n",
       " (2, '2010-02-05', 2136989.46),\n",
       " (3, '2010-02-05', 461622.22),\n",
       " (4, '2010-02-05', 2135143.87),\n",
       " (5, '2010-02-05', 317173.0999999999)]"
      ]
     },
     "execution_count": 73,
     "metadata": {},
     "output_type": "execute_result"
    }
   ],
   "source": [
    "%%sql \n",
    "select store, weekdate, sum(weeklysales) from Sales \n",
    "where weekdate = '2010-02-05'\n",
    "group by 1,2\n",
    "limit 5"
   ]
  },
  {
   "cell_type": "code",
   "execution_count": 74,
   "metadata": {},
   "outputs": [
    {
     "name": "stdout",
     "output_type": "stream",
     "text": [
      " * sqlite:///PS1.db\n",
      "Done.\n"
     ]
    },
    {
     "data": {
      "text/html": [
       "<table>\n",
       "    <tr>\n",
       "        <th>store</th>\n",
       "        <th>dept</th>\n",
       "        <th>weekdate</th>\n",
       "        <th>weeklysales</th>\n",
       "    </tr>\n",
       "    <tr>\n",
       "        <td>1</td>\n",
       "        <td>1</td>\n",
       "        <td>2010-02-05</td>\n",
       "        <td>24924.5</td>\n",
       "    </tr>\n",
       "    <tr>\n",
       "        <td>1</td>\n",
       "        <td>1</td>\n",
       "        <td>2010-02-12</td>\n",
       "        <td>46039.49</td>\n",
       "    </tr>\n",
       "    <tr>\n",
       "        <td>1</td>\n",
       "        <td>1</td>\n",
       "        <td>2010-02-19</td>\n",
       "        <td>41595.55</td>\n",
       "    </tr>\n",
       "    <tr>\n",
       "        <td>1</td>\n",
       "        <td>1</td>\n",
       "        <td>2010-02-26</td>\n",
       "        <td>19403.54</td>\n",
       "    </tr>\n",
       "    <tr>\n",
       "        <td>1</td>\n",
       "        <td>1</td>\n",
       "        <td>2010-03-05</td>\n",
       "        <td>21827.9</td>\n",
       "    </tr>\n",
       "</table>"
      ],
      "text/plain": [
       "[(1, 1, '2010-02-05', 24924.5),\n",
       " (1, 1, '2010-02-12', 46039.49),\n",
       " (1, 1, '2010-02-19', 41595.55),\n",
       " (1, 1, '2010-02-26', 19403.54),\n",
       " (1, 1, '2010-03-05', 21827.9)]"
      ]
     },
     "execution_count": 74,
     "metadata": {},
     "output_type": "execute_result"
    }
   ],
   "source": [
    "%%sql \n",
    "select * from Sales limit 5"
   ]
  },
  {
   "cell_type": "code",
   "execution_count": 75,
   "metadata": {},
   "outputs": [
    {
     "name": "stdout",
     "output_type": "stream",
     "text": [
      " * sqlite:///PS1.db\n",
      "Done.\n"
     ]
    },
    {
     "data": {
      "text/html": [
       "<table>\n",
       "    <tr>\n",
       "        <th>weekdate</th>\n",
       "        <th>isholiday</th>\n",
       "    </tr>\n",
       "    <tr>\n",
       "        <td>2010-02-05</td>\n",
       "        <td>FALSE</td>\n",
       "    </tr>\n",
       "</table>"
      ],
      "text/plain": [
       "[('2010-02-05', 'FALSE')]"
      ]
     },
     "execution_count": 75,
     "metadata": {},
     "output_type": "execute_result"
    }
   ],
   "source": [
    "%%sql \n",
    "select * from Holidays limit 1"
   ]
  },
  {
   "cell_type": "code",
   "execution_count": 76,
   "metadata": {},
   "outputs": [
    {
     "name": "stdout",
     "output_type": "stream",
     "text": [
      " * sqlite:///PS1.db\n",
      "Done.\n"
     ]
    },
    {
     "data": {
      "text/html": [
       "<table>\n",
       "    <tr>\n",
       "        <th>store</th>\n",
       "        <th>type</th>\n",
       "        <th>size</th>\n",
       "    </tr>\n",
       "    <tr>\n",
       "        <td>1</td>\n",
       "        <td>A</td>\n",
       "        <td>151315</td>\n",
       "    </tr>\n",
       "    <tr>\n",
       "        <td>2</td>\n",
       "        <td>A</td>\n",
       "        <td>202307</td>\n",
       "    </tr>\n",
       "    <tr>\n",
       "        <td>3</td>\n",
       "        <td>B</td>\n",
       "        <td>37392</td>\n",
       "    </tr>\n",
       "    <tr>\n",
       "        <td>4</td>\n",
       "        <td>A</td>\n",
       "        <td>205863</td>\n",
       "    </tr>\n",
       "    <tr>\n",
       "        <td>5</td>\n",
       "        <td>B</td>\n",
       "        <td>34875</td>\n",
       "    </tr>\n",
       "</table>"
      ],
      "text/plain": [
       "[(1, 'A', 151315),\n",
       " (2, 'A', 202307),\n",
       " (3, 'B', 37392),\n",
       " (4, 'A', 205863),\n",
       " (5, 'B', 34875)]"
      ]
     },
     "execution_count": 76,
     "metadata": {},
     "output_type": "execute_result"
    }
   ],
   "source": [
    "%%sql\n",
    "select * from Stores limit 5"
   ]
  },
  {
   "cell_type": "markdown",
   "metadata": {},
   "source": [
    "### Part (b): When Holidays do not help Sales [10 points]\n",
    "\n",
    "Using a _single SQL query_, compute the **number** of non-holiday weeks that had larger sales than the overall average sales during holiday weeks. Further requirements:\n",
    "* Use the `WITH` clause before the main body of the query to compute a subquery if necessary.\n",
    "* Return a relation with schema `(NumNonHolidays)`.\n",
    "\n",
    "Write your query here:"
   ]
  },
  {
   "cell_type": "code",
   "execution_count": 19,
   "metadata": {},
   "outputs": [
    {
     "name": "stdout",
     "output_type": "stream",
     "text": [
      "Done.\n"
     ]
    },
    {
     "data": {
      "text/html": [
       "<table>\n",
       "    <tr>\n",
       "        <th>NumNonHolidays</th>\n",
       "    </tr>\n",
       "    <tr>\n",
       "        <td>8</td>\n",
       "    </tr>\n",
       "</table>"
      ],
      "text/plain": [
       "[(8,)]"
      ]
     },
     "execution_count": 19,
     "metadata": {},
     "output_type": "execute_result"
    }
   ],
   "source": [
    "\"\"\"\n",
    "Expected output below- don't re-evaluate this cell!\n",
    "\n",
    "NOTE: A valid answer must work for ALL inputs of the given type,\n",
    "not just this example.  I.e. do not hardcode around this answer / etc!\n",
    "\"\"\""
   ]
  },
  {
   "cell_type": "code",
   "execution_count": 122,
   "metadata": {},
   "outputs": [
    {
     "name": "stdout",
     "output_type": "stream",
     "text": [
      " * sqlite:///PS1.db\n",
      "Done.\n"
     ]
    },
    {
     "data": {
      "text/html": [
       "<table>\n",
       "    <tr>\n",
       "        <th>NumNonHolidays</th>\n",
       "    </tr>\n",
       "    <tr>\n",
       "        <td>8</td>\n",
       "    </tr>\n",
       "</table>"
      ],
      "text/plain": [
       "[(8,)]"
      ]
     },
     "execution_count": 122,
     "metadata": {},
     "output_type": "execute_result"
    }
   ],
   "source": [
    "%%sql\n",
    "select count(1) NumNonHolidays from(\n",
    "    select S.weekdate, sum(S.weeklysales) AllSales\n",
    "    from Sales S join Holidays H on S.weekdate=H.weekdate\n",
    "    where H.isholiday = \"FALSE\"\n",
    "    group by 1\n",
    "    having AllSales>\n",
    "    (\n",
    "        select avg(AllSales) AvgSales \n",
    "        from(select S.weekdate, sum(S.weeklysales) AllSales\n",
    "            from Sales S join Holidays H on S.weekdate=H.weekdate\n",
    "            where H.isholiday = \"TRUE\"\n",
    "            group by 1)\n",
    "    )\n",
    ")"
   ]
  },
  {
   "cell_type": "code",
   "execution_count": 116,
   "metadata": {},
   "outputs": [
    {
     "name": "stdout",
     "output_type": "stream",
     "text": [
      " * sqlite:///PS1.db\n",
      "Done.\n"
     ]
    },
    {
     "data": {
      "text/html": [
       "<table>\n",
       "    <tr>\n",
       "        <th>weekdate</th>\n",
       "        <th>AllSales</th>\n",
       "    </tr>\n",
       "    <tr>\n",
       "        <td>2010-02-12</td>\n",
       "        <td>48336677.63000006</td>\n",
       "    </tr>\n",
       "    <tr>\n",
       "        <td>2010-09-10</td>\n",
       "        <td>45634397.840000056</td>\n",
       "    </tr>\n",
       "    <tr>\n",
       "        <td>2010-11-26</td>\n",
       "        <td>65821003.240000084</td>\n",
       "    </tr>\n",
       "    <tr>\n",
       "        <td>2010-12-31</td>\n",
       "        <td>40432519.000000075</td>\n",
       "    </tr>\n",
       "    <tr>\n",
       "        <td>2011-02-11</td>\n",
       "        <td>47336192.78999979</td>\n",
       "    </tr>\n",
       "    <tr>\n",
       "        <td>2011-09-09</td>\n",
       "        <td>46763227.53000005</td>\n",
       "    </tr>\n",
       "    <tr>\n",
       "        <td>2011-11-25</td>\n",
       "        <td>66593605.25999993</td>\n",
       "    </tr>\n",
       "    <tr>\n",
       "        <td>2011-12-30</td>\n",
       "        <td>46042461.03999984</td>\n",
       "    </tr>\n",
       "    <tr>\n",
       "        <td>2012-02-10</td>\n",
       "        <td>50009407.91999999</td>\n",
       "    </tr>\n",
       "    <tr>\n",
       "        <td>2012-09-07</td>\n",
       "        <td>48330059.30999995</td>\n",
       "    </tr>\n",
       "</table>"
      ],
      "text/plain": [
       "[('2010-02-12', 48336677.63000006),\n",
       " ('2010-09-10', 45634397.840000056),\n",
       " ('2010-11-26', 65821003.240000084),\n",
       " ('2010-12-31', 40432519.000000075),\n",
       " ('2011-02-11', 47336192.78999979),\n",
       " ('2011-09-09', 46763227.53000005),\n",
       " ('2011-11-25', 66593605.25999993),\n",
       " ('2011-12-30', 46042461.03999984),\n",
       " ('2012-02-10', 50009407.91999999),\n",
       " ('2012-09-07', 48330059.30999995)]"
      ]
     },
     "execution_count": 116,
     "metadata": {},
     "output_type": "execute_result"
    }
   ],
   "source": [
    "%%sql\n",
    "select S.weekdate, sum(S.weeklysales) AllSales\n",
    "from Sales S join Holidays H on S.weekdate=H.weekdate\n",
    "where H.isholiday = \"TRUE\"\n",
    "group by 1"
   ]
  },
  {
   "cell_type": "code",
   "execution_count": 114,
   "metadata": {},
   "outputs": [
    {
     "name": "stdout",
     "output_type": "stream",
     "text": [
      " * sqlite:///PS1.db\n",
      "Done.\n"
     ]
    },
    {
     "data": {
      "text/html": [
       "<table>\n",
       "    <tr>\n",
       "        <th>AvgSales</th>\n",
       "    </tr>\n",
       "    <tr>\n",
       "        <td>50529955.15599998</td>\n",
       "    </tr>\n",
       "</table>"
      ],
      "text/plain": [
       "[(50529955.15599998,)]"
      ]
     },
     "execution_count": 114,
     "metadata": {},
     "output_type": "execute_result"
    }
   ],
   "source": [
    "%%sql\n",
    "select avg(AllSales) AvgSales \n",
    "from(select S.weekdate, sum(S.weeklysales) AllSales\n",
    "    from Sales S join Holidays H on S.weekdate=H.weekdate\n",
    "    where H.isholiday = \"TRUE\"\n",
    "    group by 1)"
   ]
  },
  {
   "cell_type": "code",
   "execution_count": 119,
   "metadata": {},
   "outputs": [
    {
     "name": "stdout",
     "output_type": "stream",
     "text": [
      " * sqlite:///PS1.db\n",
      "Done.\n"
     ]
    },
    {
     "data": {
      "text/html": [
       "<table>\n",
       "    <tr>\n",
       "        <th>weekdate</th>\n",
       "        <th>AllSales</th>\n",
       "    </tr>\n",
       "    <tr>\n",
       "        <td>2010-12-10</td>\n",
       "        <td>55666770.389999814</td>\n",
       "    </tr>\n",
       "    <tr>\n",
       "        <td>2010-12-17</td>\n",
       "        <td>61820799.85</td>\n",
       "    </tr>\n",
       "    <tr>\n",
       "        <td>2010-12-24</td>\n",
       "        <td>80931415.60000007</td>\n",
       "    </tr>\n",
       "    <tr>\n",
       "        <td>2011-12-09</td>\n",
       "        <td>55561147.70000017</td>\n",
       "    </tr>\n",
       "    <tr>\n",
       "        <td>2011-12-16</td>\n",
       "        <td>60085695.93999998</td>\n",
       "    </tr>\n",
       "    <tr>\n",
       "        <td>2011-12-23</td>\n",
       "        <td>76998241.30999984</td>\n",
       "    </tr>\n",
       "    <tr>\n",
       "        <td>2012-04-06</td>\n",
       "        <td>53502315.87</td>\n",
       "    </tr>\n",
       "    <tr>\n",
       "        <td>2012-07-06</td>\n",
       "        <td>51253021.87999992</td>\n",
       "    </tr>\n",
       "</table>"
      ],
      "text/plain": [
       "[('2010-12-10', 55666770.389999814),\n",
       " ('2010-12-17', 61820799.85),\n",
       " ('2010-12-24', 80931415.60000007),\n",
       " ('2011-12-09', 55561147.70000017),\n",
       " ('2011-12-16', 60085695.93999998),\n",
       " ('2011-12-23', 76998241.30999984),\n",
       " ('2012-04-06', 53502315.87),\n",
       " ('2012-07-06', 51253021.87999992)]"
      ]
     },
     "execution_count": 119,
     "metadata": {},
     "output_type": "execute_result"
    }
   ],
   "source": [
    "%%sql\n",
    "select S.weekdate, sum(S.weeklysales) AllSales\n",
    "from Sales S join Holidays H on S.weekdate=H.weekdate\n",
    "where H.isholiday = \"FALSE\"\n",
    "group by 1\n",
    "having AllSales>\n",
    "(\n",
    "select avg(AllSales) AvgSales \n",
    "from(select S.weekdate, sum(S.weeklysales) AllSales\n",
    "    from Sales S join Holidays H on S.weekdate=H.weekdate\n",
    "    where H.isholiday = \"TRUE\"\n",
    "    group by 1)\n",
    ")"
   ]
  },
  {
   "cell_type": "markdown",
   "metadata": {},
   "source": [
    "### Part (c): Total Summer Sales [5 points]\n",
    "\n",
    "Using a _single SQL query_, compute the total sales during summer (months 6,7,and 8) for each type of store. Further requirements:\n",
    "* Return a relation with schema `(type, TotalSales)`.\n",
    "\n",
    "*Hint:* SQLite3 does not support native operations on the DATE datatype. To create a workaround, you can use the `LIKE` predicate and the string concatenation operator (||). You can also use the substring operator that SQLite3 supports (`substr`).\n",
    "\n",
    "Write your query here:"
   ]
  },
  {
   "cell_type": "code",
   "execution_count": 47,
   "metadata": {},
   "outputs": [
    {
     "name": "stdout",
     "output_type": "stream",
     "text": [
      " * sqlite:///PS1.db\n",
      "Done.\n"
     ]
    },
    {
     "data": {
      "text/html": [
       "<table>\n",
       "    <tr>\n",
       "        <th>type</th>\n",
       "        <th>TotalSales</th>\n",
       "    </tr>\n",
       "    <tr>\n",
       "        <td>A</td>\n",
       "        <td>1211554899.8500097</td>\n",
       "    </tr>\n",
       "    <tr>\n",
       "        <td>B</td>\n",
       "        <td>561610722.3999932</td>\n",
       "    </tr>\n",
       "    <tr>\n",
       "        <td>C</td>\n",
       "        <td>112555450.65999933</td>\n",
       "    </tr>\n",
       "</table>"
      ],
      "text/plain": [
       "[('A', 1211554899.8500097),\n",
       " ('B', 561610722.3999932),\n",
       " ('C', 112555450.65999933)]"
      ]
     },
     "execution_count": 47,
     "metadata": {},
     "output_type": "execute_result"
    }
   ],
   "source": [
    "\"\"\"\n",
    "Expected output below- don't re-evaluate this cell!\n",
    "\n",
    "NOTE: A valid answer must work for ALL inputs of the given type,\n",
    "not just this example.  I.e. do not hardcode around this answer / etc!\n",
    "\"\"\""
   ]
  },
  {
   "cell_type": "code",
   "execution_count": 12,
   "metadata": {},
   "outputs": [
    {
     "name": "stdout",
     "output_type": "stream",
     "text": [
      " * sqlite:///PS1.db\n",
      "Done.\n"
     ]
    },
    {
     "data": {
      "text/html": [
       "<table>\n",
       "    <tr>\n",
       "        <th>type</th>\n",
       "        <th>weeklysales</th>\n",
       "    </tr>\n",
       "    <tr>\n",
       "        <td>A</td>\n",
       "        <td>1211554899.8500097</td>\n",
       "    </tr>\n",
       "    <tr>\n",
       "        <td>B</td>\n",
       "        <td>561610722.3999932</td>\n",
       "    </tr>\n",
       "    <tr>\n",
       "        <td>C</td>\n",
       "        <td>112555450.65999933</td>\n",
       "    </tr>\n",
       "</table>"
      ],
      "text/plain": [
       "[('A', 1211554899.8500097),\n",
       " ('B', 561610722.3999932),\n",
       " ('C', 112555450.65999933)]"
      ]
     },
     "execution_count": 12,
     "metadata": {},
     "output_type": "execute_result"
    }
   ],
   "source": [
    "%%sql\n",
    "select St.type, sum(Sa.weeklysales) weeklysales\n",
    "from Stores St join Sales Sa on St.store=Sa.store\n",
    "where weekdate like '%-06-%' or weekdate like '%-07-%' or weekdate like '%-08-%'\n",
    "group by 1"
   ]
  },
  {
   "cell_type": "code",
   "execution_count": 6,
   "metadata": {},
   "outputs": [
    {
     "name": "stdout",
     "output_type": "stream",
     "text": [
      " * sqlite:///PS1.db\n",
      "Done.\n"
     ]
    },
    {
     "data": {
      "text/html": [
       "<table>\n",
       "    <tr>\n",
       "        <th>type</th>\n",
       "        <th>weeklysales</th>\n",
       "    </tr>\n",
       "    <tr>\n",
       "        <td>A</td>\n",
       "        <td>4331014722.750051</td>\n",
       "    </tr>\n",
       "    <tr>\n",
       "        <td>B</td>\n",
       "        <td>2000700736.8200703</td>\n",
       "    </tr>\n",
       "    <tr>\n",
       "        <td>C</td>\n",
       "        <td>405503527.5399986</td>\n",
       "    </tr>\n",
       "</table>"
      ],
      "text/plain": [
       "[('A', 4331014722.750051), ('B', 2000700736.8200703), ('C', 405503527.5399986)]"
      ]
     },
     "execution_count": 6,
     "metadata": {},
     "output_type": "execute_result"
    }
   ],
   "source": [
    "%%sql\n",
    "select St.type, sum(Sa.weeklysales) weeklysales\n",
    "from Stores St join Sales Sa on St.store=Sa.store\n",
    "group by 1"
   ]
  },
  {
   "cell_type": "code",
   "execution_count": 10,
   "metadata": {},
   "outputs": [
    {
     "name": "stdout",
     "output_type": "stream",
     "text": [
      " * sqlite:///PS1.db\n",
      "Done.\n"
     ]
    },
    {
     "data": {
      "text/html": [
       "<table>\n",
       "    <tr>\n",
       "        <th>type</th>\n",
       "        <th>store</th>\n",
       "        <th>dept</th>\n",
       "        <th>weekdate</th>\n",
       "        <th>weeklysales</th>\n",
       "    </tr>\n",
       "    <tr>\n",
       "        <td>A</td>\n",
       "        <td>1</td>\n",
       "        <td>1</td>\n",
       "        <td>2010-06-04</td>\n",
       "        <td>17558.09</td>\n",
       "    </tr>\n",
       "    <tr>\n",
       "        <td>A</td>\n",
       "        <td>1</td>\n",
       "        <td>1</td>\n",
       "        <td>2010-06-11</td>\n",
       "        <td>16637.62</td>\n",
       "    </tr>\n",
       "    <tr>\n",
       "        <td>A</td>\n",
       "        <td>1</td>\n",
       "        <td>1</td>\n",
       "        <td>2010-06-18</td>\n",
       "        <td>16216.27</td>\n",
       "    </tr>\n",
       "    <tr>\n",
       "        <td>A</td>\n",
       "        <td>1</td>\n",
       "        <td>1</td>\n",
       "        <td>2010-06-25</td>\n",
       "        <td>16328.72</td>\n",
       "    </tr>\n",
       "    <tr>\n",
       "        <td>A</td>\n",
       "        <td>1</td>\n",
       "        <td>1</td>\n",
       "        <td>2010-07-02</td>\n",
       "        <td>16333.14</td>\n",
       "    </tr>\n",
       "</table>"
      ],
      "text/plain": [
       "[('A', 1, 1, '2010-06-04', 17558.09),\n",
       " ('A', 1, 1, '2010-06-11', 16637.62),\n",
       " ('A', 1, 1, '2010-06-18', 16216.27),\n",
       " ('A', 1, 1, '2010-06-25', 16328.72),\n",
       " ('A', 1, 1, '2010-07-02', 16333.14)]"
      ]
     },
     "execution_count": 10,
     "metadata": {},
     "output_type": "execute_result"
    }
   ],
   "source": [
    "%%sql\n",
    "select St.type, sum(Sa.weeklysales) weeklysales\n",
    "from Stores St join Sales Sa on St.store=Sa.store\n",
    "where weekdate like '%-06-%' or weekdate like '%-07-%' or weekdate like '%-08-%'\n",
    "limit 5"
   ]
  },
  {
   "cell_type": "markdown",
   "metadata": {},
   "source": [
    "Problem 3: The Traveling SQL Server Salesman Problem [25 points]\n",
    "--------------------------------------------------\n",
    "\n",
    "SQL Server salespeople are lucky as far as traveling salespeople go- they only have to sell one or two big enterprise contracts, at one or two offices in Wisconsin, in order to make their monthly quota!\n",
    "\n",
    "Answer the following questions using the table of streets connecting company office buildings.\n",
    "\n",
    "**Note that for convenience all streets are included _twice_, as $A \\rightarrow B$ and $B \\rightarrow A$.  This should make some parts of the problem easier, but remember to take it into account!**"
   ]
  },
  {
   "cell_type": "code",
   "execution_count": 13,
   "metadata": {},
   "outputs": [
    {
     "name": "stdout",
     "output_type": "stream",
     "text": [
      " * sqlite:///PS1.db\n",
      "Done.\n"
     ]
    },
    {
     "data": {
      "text/html": [
       "<table>\n",
       "    <tr>\n",
       "        <th>id</th>\n",
       "        <th>direction</th>\n",
       "        <th>A</th>\n",
       "        <th>B</th>\n",
       "        <th>d</th>\n",
       "    </tr>\n",
       "    <tr>\n",
       "        <td>0</td>\n",
       "        <td>F</td>\n",
       "        <td>UW-Madison</td>\n",
       "        <td>DooHickey Collective</td>\n",
       "        <td>7</td>\n",
       "    </tr>\n",
       "    <tr>\n",
       "        <td>0</td>\n",
       "        <td>R</td>\n",
       "        <td>DooHickey Collective</td>\n",
       "        <td>UW-Madison</td>\n",
       "        <td>7</td>\n",
       "    </tr>\n",
       "    <tr>\n",
       "        <td>1</td>\n",
       "        <td>F</td>\n",
       "        <td>DooHickey Collective</td>\n",
       "        <td>Gizmo Corp</td>\n",
       "        <td>2</td>\n",
       "    </tr>\n",
       "    <tr>\n",
       "        <td>1</td>\n",
       "        <td>R</td>\n",
       "        <td>Gizmo Corp</td>\n",
       "        <td>DooHickey Collective</td>\n",
       "        <td>2</td>\n",
       "    </tr>\n",
       "</table>"
      ],
      "text/plain": [
       "[(0, 'F', 'UW-Madison', 'DooHickey Collective', 7),\n",
       " (0, 'R', 'DooHickey Collective', 'UW-Madison', 7),\n",
       " (1, 'F', 'DooHickey Collective', 'Gizmo Corp', 2),\n",
       " (1, 'R', 'Gizmo Corp', 'DooHickey Collective', 2)]"
      ]
     },
     "execution_count": 13,
     "metadata": {},
     "output_type": "execute_result"
    }
   ],
   "source": [
    "%sql SELECT * FROM streets LIMIT 4;"
   ]
  },
  {
   "cell_type": "markdown",
   "metadata": {},
   "source": [
    "### Part (a): One-hop, two-hop, three-hop... [10 points]\n",
    "\n",
    "Our salesperson has stopped at UW-Madison, to steal some cool new RDBMS technology from CS564-ers, and now wants to go sell it to a company _within 9 miles of UW-Madison and _passing through no more than 3 distinct streets_.  Write a single query, not using `WITH` (see later on), to find all such companies.\n",
    "\n",
    "Your query should return the schema `(company, distance)` where distance is cumulative from UW-Madison.\n",
    "\n",
    "Write your query here:"
   ]
  },
  {
   "cell_type": "code",
   "execution_count": 15,
   "metadata": {},
   "outputs": [
    {
     "name": "stdout",
     "output_type": "stream",
     "text": [
      " * sqlite:///PS1.db\n",
      "Done.\n"
     ]
    },
    {
     "data": {
      "text/html": [
       "<table>\n",
       "    <tr>\n",
       "        <th>company</th>\n",
       "        <th>distance</th>\n",
       "    </tr>\n",
       "    <tr>\n",
       "        <td>DooHickey Collective</td>\n",
       "        <td>7</td>\n",
       "    </tr>\n",
       "    <tr>\n",
       "        <td>DooHickey Corp</td>\n",
       "        <td>9</td>\n",
       "    </tr>\n",
       "    <tr>\n",
       "        <td>Gadget Collective</td>\n",
       "        <td>9</td>\n",
       "    </tr>\n",
       "    <tr>\n",
       "        <td>Gadget Corp</td>\n",
       "        <td>6</td>\n",
       "    </tr>\n",
       "    <tr>\n",
       "        <td>Gizmo Corp</td>\n",
       "        <td>9</td>\n",
       "    </tr>\n",
       "</table>"
      ],
      "text/plain": [
       "[('DooHickey Collective', 7),\n",
       " ('DooHickey Corp', 9),\n",
       " ('Gadget Collective', 9),\n",
       " ('Gadget Corp', 6),\n",
       " ('Gizmo Corp', 9)]"
      ]
     },
     "execution_count": 15,
     "metadata": {},
     "output_type": "execute_result"
    }
   ],
   "source": [
    "\"\"\"\n",
    "Expected output below- don't re-evaluate this cell!\n",
    "\n",
    "NOTE: A valid answer must work for ALL inputs of the given type,\n",
    "not just this example.  I.e. do not hardcode around this answer / etc!\n",
    "\"\"\""
   ]
  },
  {
   "cell_type": "code",
   "execution_count": 182,
   "metadata": {},
   "outputs": [
    {
     "name": "stdout",
     "output_type": "stream",
     "text": [
      " * sqlite:///PS1.db\n",
      "Done.\n"
     ]
    },
    {
     "data": {
      "text/html": [
       "<table>\n",
       "    <tr>\n",
       "        <th>company</th>\n",
       "        <th>distance</th>\n",
       "    </tr>\n",
       "    <tr>\n",
       "        <td>DooHickey Collective</td>\n",
       "        <td>7</td>\n",
       "    </tr>\n",
       "    <tr>\n",
       "        <td>DooHickey Corp</td>\n",
       "        <td>9</td>\n",
       "    </tr>\n",
       "    <tr>\n",
       "        <td>Gadget Collective</td>\n",
       "        <td>9</td>\n",
       "    </tr>\n",
       "    <tr>\n",
       "        <td>Gadget Corp</td>\n",
       "        <td>6</td>\n",
       "    </tr>\n",
       "    <tr>\n",
       "        <td>Gizmo Corp</td>\n",
       "        <td>9</td>\n",
       "    </tr>\n",
       "</table>"
      ],
      "text/plain": [
       "[('DooHickey Collective', 7),\n",
       " ('DooHickey Corp', 9),\n",
       " ('Gadget Collective', 9),\n",
       " ('Gadget Corp', 6),\n",
       " ('Gizmo Corp', 9)]"
      ]
     },
     "execution_count": 182,
     "metadata": {},
     "output_type": "execute_result"
    }
   ],
   "source": [
    "%%sql\n",
    "SELECT B company, d distance FROM streets\n",
    "where A='UW-Madison' and d<=9 \n",
    "union\n",
    "select X2.B company, x1.d+x2.d d12\n",
    "from streets X1 join streets X2 on X1.B=X2.A and X1.direction = X2.direction\n",
    "where X1.A = 'UW-Madison' and d12<=9 "
   ]
  },
  {
   "cell_type": "code",
   "execution_count": 126,
   "metadata": {},
   "outputs": [
    {
     "name": "stdout",
     "output_type": "stream",
     "text": [
      " * sqlite:///PS1.db\n",
      "Done.\n"
     ]
    },
    {
     "data": {
      "text/html": [
       "<table>\n",
       "    <tr>\n",
       "        <th>id</th>\n",
       "        <th>direction</th>\n",
       "        <th>A</th>\n",
       "        <th>B</th>\n",
       "        <th>d</th>\n",
       "    </tr>\n",
       "    <tr>\n",
       "        <td>0</td>\n",
       "        <td>F</td>\n",
       "        <td>UW-Madison</td>\n",
       "        <td>DooHickey Collective</td>\n",
       "        <td>7</td>\n",
       "    </tr>\n",
       "    <tr>\n",
       "        <td>0</td>\n",
       "        <td>R</td>\n",
       "        <td>DooHickey Collective</td>\n",
       "        <td>UW-Madison</td>\n",
       "        <td>7</td>\n",
       "    </tr>\n",
       "    <tr>\n",
       "        <td>1</td>\n",
       "        <td>F</td>\n",
       "        <td>DooHickey Collective</td>\n",
       "        <td>Gizmo Corp</td>\n",
       "        <td>2</td>\n",
       "    </tr>\n",
       "    <tr>\n",
       "        <td>1</td>\n",
       "        <td>R</td>\n",
       "        <td>Gizmo Corp</td>\n",
       "        <td>DooHickey Collective</td>\n",
       "        <td>2</td>\n",
       "    </tr>\n",
       "</table>"
      ],
      "text/plain": [
       "[(0, 'F', 'UW-Madison', 'DooHickey Collective', 7),\n",
       " (0, 'R', 'DooHickey Collective', 'UW-Madison', 7),\n",
       " (1, 'F', 'DooHickey Collective', 'Gizmo Corp', 2),\n",
       " (1, 'R', 'Gizmo Corp', 'DooHickey Collective', 2)]"
      ]
     },
     "execution_count": 126,
     "metadata": {},
     "output_type": "execute_result"
    }
   ],
   "source": [
    "%sql SELECT * FROM streets LIMIT 4;"
   ]
  },
  {
   "cell_type": "code",
   "execution_count": 175,
   "metadata": {},
   "outputs": [
    {
     "name": "stdout",
     "output_type": "stream",
     "text": [
      " * sqlite:///PS1.db\n",
      "Done.\n"
     ]
    },
    {
     "data": {
      "text/html": [
       "<table>\n",
       "    <tr>\n",
       "        <th>id</th>\n",
       "        <th>direction</th>\n",
       "        <th>A</th>\n",
       "        <th>B</th>\n",
       "        <th>d1</th>\n",
       "        <th>C</th>\n",
       "        <th>d2</th>\n",
       "        <th>d12</th>\n",
       "        <th>D</th>\n",
       "        <th>d3</th>\n",
       "        <th>distance</th>\n",
       "    </tr>\n",
       "    <tr>\n",
       "        <td>0</td>\n",
       "        <td>F</td>\n",
       "        <td>UW-Madison</td>\n",
       "        <td>DooHickey Collective</td>\n",
       "        <td>7</td>\n",
       "        <td>Gizmo Corp</td>\n",
       "        <td>2</td>\n",
       "        <td>9</td>\n",
       "        <td>GadgetWorks</td>\n",
       "        <td>8</td>\n",
       "        <td>17</td>\n",
       "    </tr>\n",
       "    <tr>\n",
       "        <td>0</td>\n",
       "        <td>F</td>\n",
       "        <td>UW-Madison</td>\n",
       "        <td>DooHickey Collective</td>\n",
       "        <td>7</td>\n",
       "        <td>Gizmo Corp</td>\n",
       "        <td>2</td>\n",
       "        <td>9</td>\n",
       "        <td>Widget Industries</td>\n",
       "        <td>1</td>\n",
       "        <td>10</td>\n",
       "    </tr>\n",
       "    <tr>\n",
       "        <td>2</td>\n",
       "        <td>F</td>\n",
       "        <td>UW-Madison</td>\n",
       "        <td>Gadget Corp</td>\n",
       "        <td>6</td>\n",
       "        <td>DooHickey Corp</td>\n",
       "        <td>3</td>\n",
       "        <td>9</td>\n",
       "        <td>DooHickeyWorks</td>\n",
       "        <td>3</td>\n",
       "        <td>12</td>\n",
       "    </tr>\n",
       "    <tr>\n",
       "        <td>2</td>\n",
       "        <td>F</td>\n",
       "        <td>UW-Madison</td>\n",
       "        <td>Gadget Corp</td>\n",
       "        <td>6</td>\n",
       "        <td>DooHickey Corp</td>\n",
       "        <td>3</td>\n",
       "        <td>9</td>\n",
       "        <td>ThingCo</td>\n",
       "        <td>6</td>\n",
       "        <td>15</td>\n",
       "    </tr>\n",
       "    <tr>\n",
       "        <td>2</td>\n",
       "        <td>F</td>\n",
       "        <td>UW-Madison</td>\n",
       "        <td>Gadget Corp</td>\n",
       "        <td>6</td>\n",
       "        <td>Gadget Industries</td>\n",
       "        <td>9</td>\n",
       "        <td>15</td>\n",
       "        <td>Widget Corp</td>\n",
       "        <td>5</td>\n",
       "        <td>20</td>\n",
       "    </tr>\n",
       "</table>"
      ],
      "text/plain": [
       "[(0, 'F', 'UW-Madison', 'DooHickey Collective', 7, 'Gizmo Corp', 2, 9, 'GadgetWorks', 8, 17),\n",
       " (0, 'F', 'UW-Madison', 'DooHickey Collective', 7, 'Gizmo Corp', 2, 9, 'Widget Industries', 1, 10),\n",
       " (2, 'F', 'UW-Madison', 'Gadget Corp', 6, 'DooHickey Corp', 3, 9, 'DooHickeyWorks', 3, 12),\n",
       " (2, 'F', 'UW-Madison', 'Gadget Corp', 6, 'DooHickey Corp', 3, 9, 'ThingCo', 6, 15),\n",
       " (2, 'F', 'UW-Madison', 'Gadget Corp', 6, 'Gadget Industries', 9, 15, 'Widget Corp', 5, 20)]"
      ]
     },
     "execution_count": 175,
     "metadata": {},
     "output_type": "execute_result"
    }
   ],
   "source": [
    "%%sql\n",
    "select X1.id, X1.direction, X1.A, X1.B, X1.d d1, X2.B C, x2.d d2, x1.d+x2.d d12, X3.B D, x3.d d3, x1.d+x2.d+x3.d distance\n",
    "from streets X1 join streets X2 on X1.B=X2.A and X1.direction = X2.direction\n",
    "join streets X3 on X2.B=X3.A and X1.direction = X3.direction\n",
    "where X1.A = 'UW-Madison'\n",
    "order by X1.direction, X1.id"
   ]
  },
  {
   "cell_type": "code",
   "execution_count": 179,
   "metadata": {},
   "outputs": [
    {
     "name": "stdout",
     "output_type": "stream",
     "text": [
      " * sqlite:///PS1.db\n",
      "Done.\n"
     ]
    },
    {
     "data": {
      "text/html": [
       "<table>\n",
       "    <tr>\n",
       "        <th>id</th>\n",
       "        <th>direction</th>\n",
       "        <th>A</th>\n",
       "        <th>C</th>\n",
       "        <th>d12</th>\n",
       "    </tr>\n",
       "    <tr>\n",
       "        <td>0</td>\n",
       "        <td>F</td>\n",
       "        <td>UW-Madison</td>\n",
       "        <td>Gizmo Corp</td>\n",
       "        <td>9</td>\n",
       "    </tr>\n",
       "    <tr>\n",
       "        <td>2</td>\n",
       "        <td>F</td>\n",
       "        <td>UW-Madison</td>\n",
       "        <td>DooHickey Corp</td>\n",
       "        <td>9</td>\n",
       "    </tr>\n",
       "</table>"
      ],
      "text/plain": [
       "[(0, 'F', 'UW-Madison', 'Gizmo Corp', 9),\n",
       " (2, 'F', 'UW-Madison', 'DooHickey Corp', 9)]"
      ]
     },
     "execution_count": 179,
     "metadata": {},
     "output_type": "execute_result"
    }
   ],
   "source": [
    "%%sql\n",
    "select X1.id, X1.direction, X1.A, X2.B C, x1.d+x2.d d12\n",
    "from streets X1 join streets X2 on X1.B=X2.A and X1.direction = X2.direction\n",
    "where X1.A = 'UW-Madison' and d12<=9 \n",
    "order by X1.direction, X1.id"
   ]
  },
  {
   "cell_type": "code",
   "execution_count": 171,
   "metadata": {},
   "outputs": [
    {
     "name": "stdout",
     "output_type": "stream",
     "text": [
      " * sqlite:///PS1.db\n",
      "Done.\n"
     ]
    },
    {
     "data": {
      "text/html": [
       "<table>\n",
       "    <tr>\n",
       "        <th>id</th>\n",
       "        <th>direction</th>\n",
       "        <th>A</th>\n",
       "        <th>B</th>\n",
       "        <th>d</th>\n",
       "    </tr>\n",
       "    <tr>\n",
       "        <td>0</td>\n",
       "        <td>F</td>\n",
       "        <td>UW-Madison</td>\n",
       "        <td>DooHickey Collective</td>\n",
       "        <td>7</td>\n",
       "    </tr>\n",
       "    <tr>\n",
       "        <td>2</td>\n",
       "        <td>F</td>\n",
       "        <td>UW-Madison</td>\n",
       "        <td>Gadget Corp</td>\n",
       "        <td>6</td>\n",
       "    </tr>\n",
       "    <tr>\n",
       "        <td>5</td>\n",
       "        <td>F</td>\n",
       "        <td>UW-Madison</td>\n",
       "        <td>Gadget Collective</td>\n",
       "        <td>9</td>\n",
       "    </tr>\n",
       "</table>"
      ],
      "text/plain": [
       "[(0, 'F', 'UW-Madison', 'DooHickey Collective', 7),\n",
       " (2, 'F', 'UW-Madison', 'Gadget Corp', 6),\n",
       " (5, 'F', 'UW-Madison', 'Gadget Collective', 9)]"
      ]
     },
     "execution_count": 171,
     "metadata": {},
     "output_type": "execute_result"
    }
   ],
   "source": [
    "%%sql\n",
    "SELECT * FROM streets\n",
    "where A='UW-Madison' and d<=9 "
   ]
  },
  {
   "cell_type": "markdown",
   "metadata": {},
   "source": [
    "### Part (b): A stop at the Farm [10 points]\n",
    "\n",
    "Now, our salesperson is out in the field, and wants to see all routes- and their distances- which will take him/her from a company $A$ to a company $B$, with the following constraints:\n",
    "* The route must pass through UW-Madison (in order to pick up new RDBMS tech to sell!)\n",
    "* $A$ and $B$ must _each individually_ be within 2 hops of UW-Madison\n",
    "* $A$ and $B$ must be different companies\n",
    "* _The total distance must be $<= 15$_\n",
    "* Do not use `WITH`\n",
    "* If you return a path $A \\rightarrow B$, _do not include_ $B \\rightarrow A$ in your answer!\n",
    "\n",
    "In order to make your answer a bit cleaner, you may split into two queries, one of which creates a `VIEW`.  A view is a virtual table based on the output set of a SQL query.  A view can be used just like a normal table- the only difference under the hood is that the DBMS re-evaluates the query used to generate it each time a view is queried by a user (thus the data is always up-to date!)\n",
    "\n",
    "Here's a simple example of a view:"
   ]
  },
  {
   "cell_type": "code",
   "execution_count": 16,
   "metadata": {},
   "outputs": [
    {
     "name": "stdout",
     "output_type": "stream",
     "text": [
      " * sqlite:///PS1.db\n",
      "Done.\n",
      "Done.\n",
      "Done.\n"
     ]
    },
    {
     "data": {
      "text/html": [
       "<table>\n",
       "    <tr>\n",
       "        <th>A</th>\n",
       "        <th>B</th>\n",
       "        <th>d</th>\n",
       "    </tr>\n",
       "    <tr>\n",
       "        <td>DooHickey Collective</td>\n",
       "        <td>Gizmo Corp</td>\n",
       "        <td>2</td>\n",
       "    </tr>\n",
       "    <tr>\n",
       "        <td>Gizmo Corp</td>\n",
       "        <td>DooHickey Collective</td>\n",
       "        <td>2</td>\n",
       "    </tr>\n",
       "    <tr>\n",
       "        <td>Gizmo Corp</td>\n",
       "        <td>Widget Industries</td>\n",
       "        <td>1</td>\n",
       "    </tr>\n",
       "</table>"
      ],
      "text/plain": [
       "[('DooHickey Collective', 'Gizmo Corp', 2),\n",
       " ('Gizmo Corp', 'DooHickey Collective', 2),\n",
       " ('Gizmo Corp', 'Widget Industries', 1)]"
      ]
     },
     "execution_count": 16,
     "metadata": {},
     "output_type": "execute_result"
    }
   ],
   "source": [
    "%%sql \n",
    "DROP VIEW IF EXISTS short_streets;\n",
    "CREATE VIEW short_streets AS \n",
    "SELECT A, B, d FROM streets WHERE d < 3;\n",
    "SELECT * FROM short_streets LIMIT 3;"
   ]
  },
  {
   "cell_type": "markdown",
   "metadata": {},
   "source": [
    "Write your query or queries here:"
   ]
  },
  {
   "cell_type": "code",
   "execution_count": 33,
   "metadata": {},
   "outputs": [
    {
     "name": "stdout",
     "output_type": "stream",
     "text": [
      " * sqlite:///PS1.db\n",
      "Done.\n",
      "Done.\n",
      "Done.\n"
     ]
    },
    {
     "data": {
      "text/html": [
       "<table>\n",
       "    <tr>\n",
       "        <th>company_1</th>\n",
       "        <th>company_2</th>\n",
       "        <th>distance</th>\n",
       "    </tr>\n",
       "    <tr>\n",
       "        <td>Gadget Corp</td>\n",
       "        <td>DooHickey Collective</td>\n",
       "        <td>13</td>\n",
       "    </tr>\n",
       "    <tr>\n",
       "        <td>Gadget Corp</td>\n",
       "        <td>DooHickey Corp</td>\n",
       "        <td>15</td>\n",
       "    </tr>\n",
       "    <tr>\n",
       "        <td>Gadget Corp</td>\n",
       "        <td>Gadget Collective</td>\n",
       "        <td>15</td>\n",
       "    </tr>\n",
       "    <tr>\n",
       "        <td>Gizmo Corp</td>\n",
       "        <td>Gadget Corp</td>\n",
       "        <td>15</td>\n",
       "    </tr>\n",
       "</table>"
      ],
      "text/plain": [
       "[('Gadget Corp', 'DooHickey Collective', 13),\n",
       " ('Gadget Corp', 'DooHickey Corp', 15),\n",
       " ('Gadget Corp', 'Gadget Collective', 15),\n",
       " ('Gizmo Corp', 'Gadget Corp', 15)]"
      ]
     },
     "execution_count": 33,
     "metadata": {},
     "output_type": "execute_result"
    }
   ],
   "source": [
    "\n",
    "\"\"\"\n",
    "Expected output below- don't re-evaluate this cell!\n",
    "\n",
    "NOTE: A valid answer must work for ALL inputs of the given type,\n",
    "not just this example.  I.e. do not hardcode around this answer / etc!\n",
    "\"\"\""
   ]
  },
  {
   "cell_type": "code",
   "execution_count": 13,
   "metadata": {},
   "outputs": [
    {
     "name": "stdout",
     "output_type": "stream",
     "text": [
      " * sqlite:///PS1.db\n",
      "Done.\n",
      "Done.\n",
      "Done.\n"
     ]
    },
    {
     "data": {
      "text/html": [
       "<table>\n",
       "    <tr>\n",
       "        <th>A</th>\n",
       "        <th>B</th>\n",
       "        <th>d</th>\n",
       "    </tr>\n",
       "    <tr>\n",
       "        <td>DooHickey Collective</td>\n",
       "        <td>Gizmo Corp</td>\n",
       "        <td>2</td>\n",
       "    </tr>\n",
       "    <tr>\n",
       "        <td>Gizmo Corp</td>\n",
       "        <td>DooHickey Collective</td>\n",
       "        <td>2</td>\n",
       "    </tr>\n",
       "    <tr>\n",
       "        <td>Gizmo Corp</td>\n",
       "        <td>Widget Industries</td>\n",
       "        <td>1</td>\n",
       "    </tr>\n",
       "</table>"
      ],
      "text/plain": [
       "[('DooHickey Collective', 'Gizmo Corp', 2),\n",
       " ('Gizmo Corp', 'DooHickey Collective', 2),\n",
       " ('Gizmo Corp', 'Widget Industries', 1)]"
      ]
     },
     "execution_count": 13,
     "metadata": {},
     "output_type": "execute_result"
    }
   ],
   "source": [
    "%%sql \n",
    "DROP VIEW IF EXISTS short_streets;\n",
    "CREATE VIEW short_streets AS \n",
    "SELECT A, B, d FROM streets WHERE d < 3;\n",
    "SELECT * FROM short_streets LIMIT 3;"
   ]
  },
  {
   "cell_type": "code",
   "execution_count": 200,
   "metadata": {},
   "outputs": [
    {
     "name": "stdout",
     "output_type": "stream",
     "text": [
      " * sqlite:///PS1.db\n",
      "Done.\n",
      "Done.\n",
      "Done.\n"
     ]
    },
    {
     "data": {
      "text/html": [
       "<table>\n",
       "    <tr>\n",
       "        <th>path</th>\n",
       "        <th>U</th>\n",
       "        <th>company</th>\n",
       "        <th>d</th>\n",
       "    </tr>\n",
       "    <tr>\n",
       "        <td>0</td>\n",
       "        <td>UW-Madison</td>\n",
       "        <td>DooHickey Collective</td>\n",
       "        <td>7</td>\n",
       "    </tr>\n",
       "    <tr>\n",
       "        <td>1</td>\n",
       "        <td>UW-Madison</td>\n",
       "        <td>Gizmo Corp</td>\n",
       "        <td>9</td>\n",
       "    </tr>\n",
       "    <tr>\n",
       "        <td>2</td>\n",
       "        <td>UW-Madison</td>\n",
       "        <td>Gadget Corp</td>\n",
       "        <td>6</td>\n",
       "    </tr>\n",
       "    <tr>\n",
       "        <td>3</td>\n",
       "        <td>UW-Madison</td>\n",
       "        <td>DooHickey Corp</td>\n",
       "        <td>9</td>\n",
       "    </tr>\n",
       "    <tr>\n",
       "        <td>5</td>\n",
       "        <td>UW-Madison</td>\n",
       "        <td>Gadget Collective</td>\n",
       "        <td>9</td>\n",
       "    </tr>\n",
       "    <tr>\n",
       "        <td>7</td>\n",
       "        <td>UW-Madison</td>\n",
       "        <td>Gadget Industries</td>\n",
       "        <td>15</td>\n",
       "    </tr>\n",
       "    <tr>\n",
       "        <td>11</td>\n",
       "        <td>UW-Madison</td>\n",
       "        <td>GizmoWorks</td>\n",
       "        <td>12</td>\n",
       "    </tr>\n",
       "</table>"
      ],
      "text/plain": [
       "[(0, 'UW-Madison', 'DooHickey Collective', 7),\n",
       " (1, 'UW-Madison', 'Gizmo Corp', 9),\n",
       " (2, 'UW-Madison', 'Gadget Corp', 6),\n",
       " (3, 'UW-Madison', 'DooHickey Corp', 9),\n",
       " (5, 'UW-Madison', 'Gadget Collective', 9),\n",
       " (7, 'UW-Madison', 'Gadget Industries', 15),\n",
       " (11, 'UW-Madison', 'GizmoWorks', 12)]"
      ]
     },
     "execution_count": 200,
     "metadata": {},
     "output_type": "execute_result"
    }
   ],
   "source": [
    "%%sql\n",
    "DROP VIEW IF EXISTS F;\n",
    "CREATE VIEW F AS \n",
    "SELECT id path, A U, B company, d FROM streets\n",
    "where A='UW-Madison' and d<=15 \n",
    "union\n",
    "select X2.id, X1.A, X2.B company, x1.d+x2.d d12\n",
    "from streets X1 join streets X2 on X1.B=X2.A and X1.direction = X2.direction\n",
    "where X1.A = 'UW-Madison' and d12<=15;\n",
    "SELECT * FROM F;"
   ]
  },
  {
   "cell_type": "code",
   "execution_count": 199,
   "metadata": {},
   "outputs": [
    {
     "name": "stdout",
     "output_type": "stream",
     "text": [
      " * sqlite:///PS1.db\n",
      "Done.\n",
      "Done.\n",
      "Done.\n"
     ]
    },
    {
     "data": {
      "text/html": [
       "<table>\n",
       "    <tr>\n",
       "        <th>path</th>\n",
       "        <th>company</th>\n",
       "        <th>U</th>\n",
       "        <th>d</th>\n",
       "    </tr>\n",
       "    <tr>\n",
       "        <td>0</td>\n",
       "        <td>DooHickey Collective</td>\n",
       "        <td>UW-Madison</td>\n",
       "        <td>7</td>\n",
       "    </tr>\n",
       "    <tr>\n",
       "        <td>0</td>\n",
       "        <td>Gizmo Corp</td>\n",
       "        <td>UW-Madison</td>\n",
       "        <td>9</td>\n",
       "    </tr>\n",
       "    <tr>\n",
       "        <td>2</td>\n",
       "        <td>DooHickey Corp</td>\n",
       "        <td>UW-Madison</td>\n",
       "        <td>9</td>\n",
       "    </tr>\n",
       "    <tr>\n",
       "        <td>2</td>\n",
       "        <td>Gadget Corp</td>\n",
       "        <td>UW-Madison</td>\n",
       "        <td>6</td>\n",
       "    </tr>\n",
       "    <tr>\n",
       "        <td>2</td>\n",
       "        <td>Gadget Industries</td>\n",
       "        <td>UW-Madison</td>\n",
       "        <td>15</td>\n",
       "    </tr>\n",
       "    <tr>\n",
       "        <td>5</td>\n",
       "        <td>Gadget Collective</td>\n",
       "        <td>UW-Madison</td>\n",
       "        <td>9</td>\n",
       "    </tr>\n",
       "    <tr>\n",
       "        <td>5</td>\n",
       "        <td>GizmoWorks</td>\n",
       "        <td>UW-Madison</td>\n",
       "        <td>12</td>\n",
       "    </tr>\n",
       "</table>"
      ],
      "text/plain": [
       "[(0, 'DooHickey Collective', 'UW-Madison', 7),\n",
       " (0, 'Gizmo Corp', 'UW-Madison', 9),\n",
       " (2, 'DooHickey Corp', 'UW-Madison', 9),\n",
       " (2, 'Gadget Corp', 'UW-Madison', 6),\n",
       " (2, 'Gadget Industries', 'UW-Madison', 15),\n",
       " (5, 'Gadget Collective', 'UW-Madison', 9),\n",
       " (5, 'GizmoWorks', 'UW-Madison', 12)]"
      ]
     },
     "execution_count": 199,
     "metadata": {},
     "output_type": "execute_result"
    }
   ],
   "source": [
    "%%sql\n",
    "DROP VIEW IF EXISTS R;\n",
    "CREATE VIEW R AS \n",
    "SELECT id path, A company, B U, d FROM streets\n",
    "where B='UW-Madison' and d<=15 \n",
    "union\n",
    "select X1.id, X2.A company, X1.B, x1.d+x2.d d12\n",
    "from streets X1 join streets X2 on X1.A=X2.B and X1.direction = X2.direction\n",
    "where X1.B = 'UW-Madison' and d12<=15;\n",
    "SELECT * FROM R;"
   ]
  },
  {
   "cell_type": "code",
   "execution_count": 203,
   "metadata": {},
   "outputs": [
    {
     "name": "stdout",
     "output_type": "stream",
     "text": [
      " * sqlite:///PS1.db\n",
      "Done.\n"
     ]
    },
    {
     "data": {
      "text/html": [
       "<table>\n",
       "    <tr>\n",
       "        <th>company_1</th>\n",
       "        <th>company_2</th>\n",
       "        <th>distance</th>\n",
       "    </tr>\n",
       "    <tr>\n",
       "        <td>Gadget Corp</td>\n",
       "        <td>DooHickey Collective</td>\n",
       "        <td>13</td>\n",
       "    </tr>\n",
       "    <tr>\n",
       "        <td>Gadget Corp</td>\n",
       "        <td>Gizmo Corp</td>\n",
       "        <td>15</td>\n",
       "    </tr>\n",
       "    <tr>\n",
       "        <td>DooHickey Corp</td>\n",
       "        <td>Gadget Corp</td>\n",
       "        <td>15</td>\n",
       "    </tr>\n",
       "    <tr>\n",
       "        <td>Gadget Collective</td>\n",
       "        <td>Gadget Corp</td>\n",
       "        <td>15</td>\n",
       "    </tr>\n",
       "</table>"
      ],
      "text/plain": [
       "[('Gadget Corp', 'DooHickey Collective', 13),\n",
       " ('Gadget Corp', 'Gizmo Corp', 15),\n",
       " ('DooHickey Corp', 'Gadget Corp', 15),\n",
       " ('Gadget Collective', 'Gadget Corp', 15)]"
      ]
     },
     "execution_count": 203,
     "metadata": {},
     "output_type": "execute_result"
    }
   ],
   "source": [
    "%%sql\n",
    "select F.company company_1, R.company company_2, F.d+R.d distance\n",
    "from F join R on F.U = R.U and F.path>R.path\n",
    "where distance<=15 and company_1!=company_2"
   ]
  },
  {
   "cell_type": "code",
   "execution_count": 47,
   "metadata": {},
   "outputs": [
    {
     "name": "stdout",
     "output_type": "stream",
     "text": [
      " * sqlite:///PS1.db\n",
      "Done.\n"
     ]
    },
    {
     "data": {
      "text/html": [
       "<table>\n",
       "    <tr>\n",
       "        <th>direction</th>\n",
       "        <th>company_1</th>\n",
       "        <th>School</th>\n",
       "        <th>company_2</th>\n",
       "        <th>distance</th>\n",
       "    </tr>\n",
       "    <tr>\n",
       "        <td>F</td>\n",
       "        <td>DooHickey Collective</td>\n",
       "        <td>UW-Madison</td>\n",
       "        <td>Gadget Corp</td>\n",
       "        <td>13</td>\n",
       "    </tr>\n",
       "    <tr>\n",
       "        <td>F</td>\n",
       "        <td>DooHickey Corp</td>\n",
       "        <td>UW-Madison</td>\n",
       "        <td>Gadget Corp</td>\n",
       "        <td>15</td>\n",
       "    </tr>\n",
       "    <tr>\n",
       "        <td>F</td>\n",
       "        <td>Gadget Collective</td>\n",
       "        <td>UW-Madison</td>\n",
       "        <td>Gadget Corp</td>\n",
       "        <td>15</td>\n",
       "    </tr>\n",
       "    <tr>\n",
       "        <td>F</td>\n",
       "        <td>Gadget Corp</td>\n",
       "        <td>UW-Madison</td>\n",
       "        <td>DooHickey Collective</td>\n",
       "        <td>13</td>\n",
       "    </tr>\n",
       "    <tr>\n",
       "        <td>F</td>\n",
       "        <td>Gadget Corp</td>\n",
       "        <td>UW-Madison</td>\n",
       "        <td>DooHickey Corp</td>\n",
       "        <td>15</td>\n",
       "    </tr>\n",
       "    <tr>\n",
       "        <td>F</td>\n",
       "        <td>Gadget Corp</td>\n",
       "        <td>UW-Madison</td>\n",
       "        <td>Gadget Collective</td>\n",
       "        <td>15</td>\n",
       "    </tr>\n",
       "    <tr>\n",
       "        <td>F</td>\n",
       "        <td>Gadget Corp</td>\n",
       "        <td>UW-Madison</td>\n",
       "        <td>Gizmo Corp</td>\n",
       "        <td>15</td>\n",
       "    </tr>\n",
       "    <tr>\n",
       "        <td>F</td>\n",
       "        <td>Gizmo Corp</td>\n",
       "        <td>UW-Madison</td>\n",
       "        <td>Gadget Corp</td>\n",
       "        <td>15</td>\n",
       "    </tr>\n",
       "</table>"
      ],
      "text/plain": [
       "[('F', 'DooHickey Collective', 'UW-Madison', 'Gadget Corp', 13),\n",
       " ('F', 'DooHickey Corp', 'UW-Madison', 'Gadget Corp', 15),\n",
       " ('F', 'Gadget Collective', 'UW-Madison', 'Gadget Corp', 15),\n",
       " ('F', 'Gadget Corp', 'UW-Madison', 'DooHickey Collective', 13),\n",
       " ('F', 'Gadget Corp', 'UW-Madison', 'DooHickey Corp', 15),\n",
       " ('F', 'Gadget Corp', 'UW-Madison', 'Gadget Collective', 15),\n",
       " ('F', 'Gadget Corp', 'UW-Madison', 'Gizmo Corp', 15),\n",
       " ('F', 'Gizmo Corp', 'UW-Madison', 'Gadget Corp', 15)]"
      ]
     },
     "execution_count": 47,
     "metadata": {},
     "output_type": "execute_result"
    }
   ],
   "source": [
    "%%sql\n",
    "select F.direction, f.company company_1, F.A School, R.company company_2, F.d+R.d distance \n",
    "from(SELECT direction, A, B company, d FROM streets\n",
    "    where A='UW-Madison' and d<=15 \n",
    "    union\n",
    "    select X1.direction, X1.A, X2.B company, x1.d+x2.d d12\n",
    "    from streets X1 join streets X2 on X1.B=X2.A and X1.direction = X2.direction\n",
    "    where X1.A = 'UW-Madison' and d12<=15 \n",
    ")F join (SELECT direction, A company, B, d FROM streets\n",
    "    where B='UW-Madison' and d<=15 \n",
    "    union\n",
    "    select X1.direction, X2.A company, X1.B, x1.d+x2.d d12\n",
    "    from streets X1 join streets X2 on X1.A=X2.B and X1.direction = X2.direction\n",
    "    where X1.B = 'UW-Madison' and d12<=15\n",
    ")R on F.A = R.B\n",
    "where distance<=15 and company_1!=company_2"
   ]
  },
  {
   "cell_type": "markdown",
   "metadata": {},
   "source": [
    "### Part (c): Finding Triangles [5 points]\n",
    "\n",
    "Finally, our salesperson wants to find a route that goes from company $A$ to company $B$ to company $C$ and then back to company $A$ with the following constraints:\n",
    "* $A$, $B$, $C$ must be different companies\n",
    "* Do not use `WITH` \n",
    "* Output each such route that you find once (use the id's as a way to break ties)\n",
    "* Output the distance of the route\n",
    "\n",
    "Write your query here:"
   ]
  },
  {
   "cell_type": "code",
   "execution_count": 39,
   "metadata": {},
   "outputs": [
    {
     "name": "stdout",
     "output_type": "stream",
     "text": [
      " * sqlite:///PS1.db\n",
      "Done.\n"
     ]
    },
    {
     "data": {
      "text/html": [
       "<table>\n",
       "    <tr>\n",
       "        <th>A</th>\n",
       "        <th>B</th>\n",
       "        <th>C</th>\n",
       "        <th>distance</th>\n",
       "    </tr>\n",
       "    <tr>\n",
       "        <td>Thing Industries</td>\n",
       "        <td>Widget Collective</td>\n",
       "        <td>GadgetCo</td>\n",
       "        <td>18</td>\n",
       "    </tr>\n",
       "</table>"
      ],
      "text/plain": [
       "[('Thing Industries', 'Widget Collective', 'GadgetCo', 18)]"
      ]
     },
     "execution_count": 39,
     "metadata": {},
     "output_type": "execute_result"
    }
   ],
   "source": [
    "\"\"\"\n",
    "Expected output below- don't re-evaluate this cell!\n",
    "\n",
    "NOTE: A valid answer must work for ALL inputs of the given type,\n",
    "not just this example.  I.e. do not hardcode around this answer / etc!\n",
    "\"\"\""
   ]
  },
  {
   "cell_type": "code",
   "execution_count": 244,
   "metadata": {
    "scrolled": false
   },
   "outputs": [
    {
     "name": "stdout",
     "output_type": "stream",
     "text": [
      " * sqlite:///PS1.db\n",
      "Done.\n"
     ]
    },
    {
     "data": {
      "text/html": [
       "<table>\n",
       "    <tr>\n",
       "        <th>A</th>\n",
       "        <th>B</th>\n",
       "        <th>C</th>\n",
       "        <th>d</th>\n",
       "    </tr>\n",
       "    <tr>\n",
       "        <td>Thing Industries</td>\n",
       "        <td>Widget Collective</td>\n",
       "        <td>GadgetCo</td>\n",
       "        <td>18</td>\n",
       "    </tr>\n",
       "</table>"
      ],
      "text/plain": [
       "[('Thing Industries', 'Widget Collective', 'GadgetCo', 18)]"
      ]
     },
     "execution_count": 244,
     "metadata": {},
     "output_type": "execute_result"
    }
   ],
   "source": [
    "%%sql\n",
    "select X1.A, X1.B, X2.B C, (x1.d+x2.d)*2 d\n",
    "from streets X1 join streets X2 on X1.B=X2.A\n",
    "join streets X3 on X2.B=X3.A and X1.A=X3.B\n",
    "where X1.A != 'UW-Madison' and X2.A != 'UW-Madison' and X2.B != 'UW-Madison'\n",
    "and X1.A != X2.B\n",
    "and X1.id < X2.id\n",
    "and X1.id < X3.id\n",
    "and X2.id < X3.id"
   ]
  },
  {
   "cell_type": "code",
   "execution_count": null,
   "metadata": {},
   "outputs": [],
   "source": []
  }
 ],
 "metadata": {
  "kernelspec": {
   "display_name": "Python 3",
   "language": "python",
   "name": "python3"
  },
  "language_info": {
   "codemirror_mode": {
    "name": "ipython",
    "version": 3
   },
   "file_extension": ".py",
   "mimetype": "text/x-python",
   "name": "python",
   "nbconvert_exporter": "python",
   "pygments_lexer": "ipython3",
   "version": "3.6.4"
  }
 },
 "nbformat": 4,
 "nbformat_minor": 2
}
