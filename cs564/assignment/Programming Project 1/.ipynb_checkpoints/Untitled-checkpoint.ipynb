{
 "cells": [
  {
   "cell_type": "code",
   "execution_count": 1,
   "metadata": {},
   "outputs": [],
   "source": [
    "from json import loads"
   ]
  },
  {
   "cell_type": "code",
   "execution_count": 22,
   "metadata": {},
   "outputs": [
    {
     "ename": "SyntaxError",
     "evalue": "invalid syntax (<ipython-input-22-6d5e3cfb87e8>, line 1)",
     "output_type": "error",
     "traceback": [
      "\u001b[0;36m  File \u001b[0;32m\"<ipython-input-22-6d5e3cfb87e8>\"\u001b[0;36m, line \u001b[0;32m1\u001b[0m\n\u001b[0;31m    from `supporting-material`.skeleton_parser import treansformDollar\u001b[0m\n\u001b[0m         ^\u001b[0m\n\u001b[0;31mSyntaxError\u001b[0m\u001b[0;31m:\u001b[0m invalid syntax\n"
     ]
    }
   ],
   "source": [
    "from `supporting-material`.skeleton_parser import treansformDollar"
   ]
  },
  {
   "cell_type": "code",
   "execution_count": 16,
   "metadata": {},
   "outputs": [],
   "source": [
    "\"\"\"\n",
    "Parses a single json file. Currently, there's a loop that iterates over each\n",
    "item in the data set. Your job is to extend this functionality to create all\n",
    "of the necessary SQL tables for your database.\n",
    "\"\"\"\n",
    "def parseJson(json_file):\n",
    "    with open(json_file, 'r') as f:\n",
    "        items = loads(f.read())['Items'] # creates a Python dictionary of Items for the supplied json file\n",
    "        \n",
    "        # create entities with same level as items\n",
    "        users = []\n",
    "        bidInfos = []\n",
    "        categories = []\n",
    "        belongTos = []\n",
    "        \n",
    "        for item in items:\n",
    "            \"\"\"\n",
    "            TODO: traverse the items dictionary to extract information from the\n",
    "            given `json_file' and generate the necessary .dat files to generate\n",
    "            the SQL tables based on your relation design\n",
    "            \"\"\"\n",
    "                \n",
    "            # create entity\n",
    "            \n",
    "            # item remains            \n",
    "            seller = {}\n",
    "#             if 'Bids' in item: \n",
    "#                 bidInfos = []\n",
    "#                 bidders = []\n",
    "            belongTo = {}\n",
    "            \n",
    "            # address item attributes\n",
    "            item[\"Currently\"] = transformDollar(item[\"Currently\"])\n",
    "            item[\"First_Bid\"] = transformDollar(item[\"First_Bid\"])\n",
    "            item[\"Started\"] = transformDttm(item[\"Started\"])\n",
    "            item[\"Ends\"] = transformDttm(item[\"Ends\"])\n",
    "            \n",
    "            # put seller attribute\n",
    "            seller['UserID'] = item['Seller']['UserID']\n",
    "            seller['Rating'] = item['Seller']['Rating']\n",
    "            seller['Location'] = item['Location']\n",
    "            seller['Country'] = item['Country']\n",
    "            users.append(seller)\n",
    "            \n",
    "            # put bid and bidder\n",
    "            if 'Bids' in item: \n",
    "                bids = item['Bids']\n",
    "                for bid in bids:\n",
    "                    bidInfo = {}\n",
    "                    bidder = {}\n",
    "                    \n",
    "                    # bidInfo\n",
    "                    bidInfo['Time'] = bid['Time']\n",
    "                    bidInfo['Amount'] = bid['Amount']\n",
    "                    bidInfo['UserID'] = bid['Bidder']['UserId']\n",
    "                    bidInfo['ItemID'] = item['ItemID']\n",
    "                    bidInfos.append(bidInfo)\n",
    "\n",
    "                    # bidder\n",
    "                    bidder['UserID'] = bid['Bidder']['UserId']\n",
    "                    bidder['Rating'] = bid['Bidder']['Rating']\n",
    "                    bidder['Location'] = bid['Bidder']['Location']\n",
    "                    bidder['Country'] = bid['Bidder']['Country']\n",
    "                    users.append(bidder)\n",
    "            \n",
    "            # put category\n",
    "            for i in item['Category']:\n",
    "                categoryoneitem = {}\n",
    "                categoryoneitem ['ItemID'] = item['ItemID']\n",
    "                categoryoneitem ['Category'] = i\n",
    "                categories.append(categoryoneitem)\n",
    "                \n",
    "            for keys in item:\n",
    "                print(keys, item[keys])\n",
    "            print()\n",
    "#             pass"
   ]
  },
  {
   "cell_type": "code",
   "execution_count": 18,
   "metadata": {
    "scrolled": true
   },
   "outputs": [
    {
     "ename": "NameError",
     "evalue": "name 'transformDollar' is not defined",
     "output_type": "error",
     "traceback": [
      "\u001b[0;31m---------------------------------------------------------------------------\u001b[0m",
      "\u001b[0;31mNameError\u001b[0m                                 Traceback (most recent call last)",
      "\u001b[0;32m<ipython-input-18-e50df422e0a6>\u001b[0m in \u001b[0;36m<module>\u001b[0;34m\u001b[0m\n\u001b[0;32m----> 1\u001b[0;31m \u001b[0mparseJson\u001b[0m\u001b[0;34m(\u001b[0m\u001b[0;34m'ebay_data/items-0.json'\u001b[0m\u001b[0;34m)\u001b[0m\u001b[0;34m\u001b[0m\u001b[0m\n\u001b[0m",
      "\u001b[0;32m<ipython-input-16-c787627117a5>\u001b[0m in \u001b[0;36mparseJson\u001b[0;34m(json_file)\u001b[0m\n\u001b[1;32m     31\u001b[0m \u001b[0;34m\u001b[0m\u001b[0m\n\u001b[1;32m     32\u001b[0m             \u001b[0;31m# address item attributes\u001b[0m\u001b[0;34m\u001b[0m\u001b[0;34m\u001b[0m\u001b[0m\n\u001b[0;32m---> 33\u001b[0;31m             \u001b[0mitem\u001b[0m\u001b[0;34m[\u001b[0m\u001b[0;34m\"Currently\"\u001b[0m\u001b[0;34m]\u001b[0m \u001b[0;34m=\u001b[0m \u001b[0mtransformDollar\u001b[0m\u001b[0;34m(\u001b[0m\u001b[0mitem\u001b[0m\u001b[0;34m[\u001b[0m\u001b[0;34m\"Currently\"\u001b[0m\u001b[0;34m]\u001b[0m\u001b[0;34m)\u001b[0m\u001b[0;34m\u001b[0m\u001b[0m\n\u001b[0m\u001b[1;32m     34\u001b[0m             \u001b[0mitem\u001b[0m\u001b[0;34m[\u001b[0m\u001b[0;34m\"First_Bid\"\u001b[0m\u001b[0;34m]\u001b[0m \u001b[0;34m=\u001b[0m \u001b[0mtransformDollar\u001b[0m\u001b[0;34m(\u001b[0m\u001b[0mitem\u001b[0m\u001b[0;34m[\u001b[0m\u001b[0;34m\"First_Bid\"\u001b[0m\u001b[0;34m]\u001b[0m\u001b[0;34m)\u001b[0m\u001b[0;34m\u001b[0m\u001b[0m\n\u001b[1;32m     35\u001b[0m             \u001b[0mitem\u001b[0m\u001b[0;34m[\u001b[0m\u001b[0;34m\"Started\"\u001b[0m\u001b[0;34m]\u001b[0m \u001b[0;34m=\u001b[0m \u001b[0mtransformDttm\u001b[0m\u001b[0;34m(\u001b[0m\u001b[0mitem\u001b[0m\u001b[0;34m[\u001b[0m\u001b[0;34m\"Started\"\u001b[0m\u001b[0;34m]\u001b[0m\u001b[0;34m)\u001b[0m\u001b[0;34m\u001b[0m\u001b[0m\n",
      "\u001b[0;31mNameError\u001b[0m: name 'transformDollar' is not defined"
     ]
    }
   ],
   "source": [
    "parseJson('ebay_data/items-0.json')"
   ]
  },
  {
   "cell_type": "code",
   "execution_count": 13,
   "metadata": {},
   "outputs": [],
   "source": [
    "import sqlite3"
   ]
  },
  {
   "cell_type": "code",
   "execution_count": 14,
   "metadata": {},
   "outputs": [],
   "source": [
    "conn = sqlite3.connect('test.db')"
   ]
  },
  {
   "cell_type": "code",
   "execution_count": 15,
   "metadata": {},
   "outputs": [],
   "source": [
    "c = conn.cursor()"
   ]
  },
  {
   "cell_type": "code",
   "execution_count": null,
   "metadata": {},
   "outputs": [],
   "source": [
    "c.execute(\"CREATE TABLE countries (id varchar(3), data json)\")"
   ]
  }
 ],
 "metadata": {
  "kernelspec": {
   "display_name": "Python 3",
   "language": "python",
   "name": "python3"
  },
  "language_info": {
   "codemirror_mode": {
    "name": "ipython",
    "version": 3
   },
   "file_extension": ".py",
   "mimetype": "text/x-python",
   "name": "python",
   "nbconvert_exporter": "python",
   "pygments_lexer": "ipython3",
   "version": "3.6.4"
  }
 },
 "nbformat": 4,
 "nbformat_minor": 2
}
